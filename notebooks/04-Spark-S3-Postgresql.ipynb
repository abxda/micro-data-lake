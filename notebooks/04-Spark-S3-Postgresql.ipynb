{
 "cells": [
  {
   "cell_type": "code",
   "execution_count": 114,
   "metadata": {},
   "outputs": [],
   "source": [
    "import pyspark\n",
    "from pyspark import SparkConf, SparkContext\n",
    "from pyspark.sql import SparkSession\n",
    "from pyspark.sql import *\n",
    "from pyspark.sql.types import *\n",
    "from pyspark.sql.functions import udf\n",
    "from pyspark.sql.functions import *\n",
    "from pyspark.sql.window import Window\n",
    "NoneType = type(None)\n",
    "import os\n",
    "import socket\n",
    "import hashlib\n",
    "import string\n",
    "\n",
    "def createMd5(text):\n",
    "    return hashlib.md5(text.encode('utf-8')).hexdigest()\n",
    "md5Udf= udf(lambda z: createMd5(z),StringType())\n",
    "\n",
    "def clean_lower(text):\n",
    "    sentence = text.translate(str.maketrans('', '', '!\"#$%&\\'()*+,./:;<=>?@[\\\\]^`{|}~-_”“«»‘')).lower()\n",
    "    return \" \".join(sentence.split())\n",
    "cleanLowerUdf= udf(lambda z: clean_lower(z),StringType())\n",
    "\n",
    "def get_site_from_url(text):\n",
    "    return text.split(\"/\")[2]\n",
    "getUrl= udf(lambda z: get_site_from_url(z),StringType())\n",
    "\n",
    "def get_metadata_date(text):\n",
    "    NoneType = type(None)\n",
    "    switcher = {\n",
    "    \"ene.\": \"01\",\n",
    "    \"feb.\": \"02\",\n",
    "    \"mar.\": \"03\",\n",
    "    \"abr.\": \"04\",\n",
    "    \"may.\": \"05\",\n",
    "    \"jun.\": \"06\",\n",
    "    \"jul.\": \"07\",\n",
    "    \"ago.\": \"08\",\n",
    "    \"sep.\": \"09\",\n",
    "    \"oct.\": \"10\",\n",
    "    \"nov.\": \"11\",\n",
    "    \"dic.\": \"12\"\n",
    "    }\n",
    "    \n",
    "    date_array = text.split(\" \")\n",
    "    if len(date_array) == 3:        \n",
    "        DAY = date_array[0].zfill(2)\n",
    "        YEAR = date_array[2]\n",
    "        MONTH = ' ' if type(switcher.get(date_array[1])) == NoneType else switcher.get(date_array[1])\n",
    "        DATE = YEAR+\"-\"+MONTH+\"-\"+DAY\n",
    "        return DATE\n",
    "    else:\n",
    "        return \" \"\n",
    "getDateString= udf(lambda z: get_metadata_date(z),StringType())    \n",
    "\n",
    "os.environ['PYSPARK_SUBMIT_ARGS'] = 'pyspark-shell'"
   ]
  },
  {
   "cell_type": "code",
   "execution_count": null,
   "metadata": {},
   "outputs": [],
   "source": []
  },
  {
   "cell_type": "code",
   "execution_count": null,
   "metadata": {},
   "outputs": [],
   "source": []
  },
  {
   "cell_type": "code",
   "execution_count": null,
   "metadata": {},
   "outputs": [],
   "source": []
  },
  {
   "cell_type": "code",
   "execution_count": null,
   "metadata": {},
   "outputs": [],
   "source": []
  },
  {
   "cell_type": "code",
   "execution_count": 2,
   "metadata": {},
   "outputs": [],
   "source": [
    "minio_ip = socket.gethostbyname('minio')\n",
    "spark = SparkSession \\\n",
    "    .builder \\\n",
    "    .appName(\"Python Spark S3\") \\\n",
    "    .config('spark.hadoop.fs.s3a.endpoint', 'http://'+minio_ip+':9000') \\\n",
    "    .config(\"spark.hadoop.fs.s3a.access.key\", \"changeme1234\") \\\n",
    "    .config(\"spark.hadoop.fs.s3a.secret.key\", \"changeme1234\") \\\n",
    "    .config('spark.hadoop.fs.s3a.path.style.access', 'true') \\\n",
    "    .config('spark.hadoop.fs.s3a.impl', 'org.apache.hadoop.fs.s3a.S3AFileSystem') \\\n",
    "    .getOrCreate()"
   ]
  },
  {
   "cell_type": "code",
   "execution_count": 3,
   "metadata": {},
   "outputs": [],
   "source": [
    "st= StructType([\n",
    "    StructField(\"abstract\", StringType()),\n",
    "    StructField(\"authors\", StringType()),\n",
    "    StructField(\"image\", StringType()),\n",
    "    StructField(\"metadata\", StringType()),\n",
    "    StructField(\"publish_date\", TimestampType()),\n",
    "    StructField(\"text\", StringType()),\n",
    "    StructField(\"title\", StringType()),\n",
    "    StructField(\"url\", StringType()),\n",
    "])"
   ]
  },
  {
   "cell_type": "code",
   "execution_count": 4,
   "metadata": {},
   "outputs": [],
   "source": [
    "df_news_covid_mexico = spark.read.schema(st).option(\"timestampFormat\", \"dd-MM-yyyy\").json(\"s3a://news/covid_mexico/*.json\")"
   ]
  },
  {
   "cell_type": "code",
   "execution_count": 99,
   "metadata": {},
   "outputs": [
    {
     "data": {
      "text/plain": [
       "1686"
      ]
     },
     "execution_count": 99,
     "metadata": {},
     "output_type": "execute_result"
    }
   ],
   "source": [
    "df_news_covid_mexico.count()"
   ]
  },
  {
   "cell_type": "code",
   "execution_count": 100,
   "metadata": {},
   "outputs": [
    {
     "name": "stdout",
     "output_type": "stream",
     "text": [
      "root\n",
      " |-- abstract: string (nullable = true)\n",
      " |-- authors: string (nullable = true)\n",
      " |-- image: string (nullable = true)\n",
      " |-- metadata: string (nullable = true)\n",
      " |-- publish_date: timestamp (nullable = true)\n",
      " |-- text: string (nullable = true)\n",
      " |-- title: string (nullable = true)\n",
      " |-- url: string (nullable = true)\n",
      "\n"
     ]
    }
   ],
   "source": [
    "df_news_covid_mexico.printSchema()"
   ]
  },
  {
   "cell_type": "code",
   "execution_count": 115,
   "metadata": {},
   "outputs": [],
   "source": [
    "df_news_covid_mexico_date_text = df_news_covid_mexico.select(md5Udf(\"url\").alias(\"article_id\"),\"title\",\"url\",\"publish_date\",cleanLowerUdf(\"text\").alias(\"clean_text\"),getUrl(\"url\").alias(\"site\"),getDateString(\"metadata\").alias(\"string_date\")).filter(\"length(text) >= 2 and length(string_date) >= 2\")"
   ]
  },
  {
   "cell_type": "code",
   "execution_count": 116,
   "metadata": {},
   "outputs": [
    {
     "name": "stdout",
     "output_type": "stream",
     "text": [
      "+--------------------+--------------------+--------------------+-------------------+--------------------+--------------------+-----------+\n",
      "|          article_id|               title|                 url|       publish_date|          clean_text|                site|string_date|\n",
      "+--------------------+--------------------+--------------------+-------------------+--------------------+--------------------+-----------+\n",
      "|6a07a98230ad362ef...|Actualización: Mé...|https://www.forbe...|2020-05-07 00:00:00|nota este texto s...|   www.forbes.com.mx| 2020-05-07|\n",
      "|e7f7687b96e97d253...|A unas horas del ...|https://www.infob...|2020-05-07 00:00:00|las cifras de ‌ló...|     www.infobae.com| 2020-05-07|\n",
      "|249038fa0de68d615...|México: mapa de d...|https://www.milen...|2020-07-05 00:00:00|alejandro gonzále...|     www.milenio.com| 2020-05-07|\n",
      "|346e32556fdc0471f...|Reportan contagio...|https://www.forbe...|2020-05-07 00:00:00|reuters al menos ...|   www.forbes.com.mx| 2020-05-07|\n",
      "|d80203ca9120a820d...|Suben a 29616 los...|https://www.excel...|2020-05-08 00:00:00|al hacer click en...|www.excelsior.com.mx| 2020-05-07|\n",
      "|2929aada0ac5ec9b2...|Ex secretarios de...|https://www.jorna...|2020-05-07 00:00:00|ciudad de méxico ...|  www.jornada.com.mx| 2020-05-07|\n",
      "|35d5df1fcf8e6bb7d...|El 10 de mayo la ...|https://www.anima...|2020-05-07 00:00:00|¿eres madre de fa...|www.animalpolitic...| 2020-05-07|\n",
      "|44ddba2ec83bf029b...|Reinicio de activ...|https://www.forbe...|2020-05-07 00:00:00|la reactivación e...|   www.forbes.com.mx| 2020-05-07|\n",
      "|9299c566c1fa07971...|Manuel Negrete da...|https://mexico.as...|2020-05-08 00:00:00|el alcalde de coy...|       mexico.as.com| 2020-05-07|\n",
      "|dd8454e995c249b91...|'Que no te cargue...|https://www.forbe...|2020-05-07 00:00:00|notimex con el pr...|   www.forbes.com.mx| 2020-05-07|\n",
      "|636f554efca184cbf...|Mutaciones del Co...|https://www.mensh...|2020-05-07 00:00:00|esta es la import...|www.menshealthlat...| 2020-05-07|\n",
      "|7af8bd8dccf47d78f...|Cierran asilo de ...|https://www.infob...|2020-05-08 00:00:00|un asilo de ancia...|     www.infobae.com| 2020-05-07|\n",
      "|48c03582ff1236c14...|Casos de coronavi...|https://www.milen...|2020-07-05 00:00:00|ricardo lara y mo...|     www.milenio.com| 2020-05-07|\n",
      "|15631f66ef1876c9a...|3 de cada 10 mexi...|https://politica....|2020-05-07 00:00:00|la encuesta gener...|politica.expansio...| 2020-05-07|\n",
      "|4c2c35227f535dce6...|Estado de México ...|https://www.teles...|2020-05-07 00:00:00|el secretario de ...|   www.telesurtv.net| 2020-05-07|\n",
      "+--------------------+--------------------+--------------------+-------------------+--------------------+--------------------+-----------+\n",
      "only showing top 15 rows\n",
      "\n"
     ]
    }
   ],
   "source": [
    "df_news_covid_mexico_date_text.show(15)"
   ]
  },
  {
   "cell_type": "code",
   "execution_count": 103,
   "metadata": {},
   "outputs": [
    {
     "name": "stdout",
     "output_type": "stream",
     "text": [
      "+-----------------------------------------------------------------+\n",
      "|title                                                            |\n",
      "+-----------------------------------------------------------------+\n",
      "|Actualización: México, quinto lugar global por nuevas muertes ...|\n",
      "|A unas horas del temido pico máximo de COVID-19, las ...         |\n",
      "|México: mapa de defunciones por covid-19                         |\n",
      "|Reportan contagio de Covid-19 de casi 50 personas en asilo ...   |\n",
      "|Suben a 29616 los casos positivos de Covid-19 en México          |\n",
      "|Ex secretarios de Salud cuestionan cifras de Covid-19 en ...     |\n",
      "|El 10 de mayo la conferencia es para las mamás: así pueden ...   |\n",
      "|Reinicio de actividades en CDMX será escalonado y desde ...      |\n",
      "|Manuel Negrete da positivo por coronavirus COVID-19              |\n",
      "|'Que no te cargue el payaso': así refuerza el Metro su ...       |\n",
      "|Mutaciones del Covid-19 en México                                |\n",
      "|Cierran asilo de ancianos en norte de México tras brote de ...   |\n",
      "|Casos de coronavirus en México por estado                        |\n",
      "|3 de cada 10 mexicanos, con síntomas de ansiedad o ...           |\n",
      "|Estado de México registra 4.661 casos positivos a la Covid-19    |\n",
      "+-----------------------------------------------------------------+\n",
      "only showing top 15 rows\n",
      "\n"
     ]
    }
   ],
   "source": [
    "df_news_covid_mexico_date_text.select(\"title\").show(15,False)"
   ]
  },
  {
   "cell_type": "code",
   "execution_count": 117,
   "metadata": {},
   "outputs": [
    {
     "data": {
      "text/plain": [
       "1281"
      ]
     },
     "execution_count": 117,
     "metadata": {},
     "output_type": "execute_result"
    }
   ],
   "source": [
    "df_news_covid_mexico_date_text.count()"
   ]
  },
  {
   "cell_type": "code",
   "execution_count": 11,
   "metadata": {},
   "outputs": [],
   "source": [
    "url = \"jdbc:postgresql://postgres/shared\"\n",
    "mode=\"overwrite\"\n",
    "properties = {\n",
    "    \"user\": \"shared\",\n",
    "    \"password\": os.environ['SHARED_PASSWORD']\n",
    "}"
   ]
  },
  {
   "cell_type": "code",
   "execution_count": 12,
   "metadata": {},
   "outputs": [],
   "source": [
    "df_news_covid_mexico_date_text.write.jdbc(url=url, table=\"tb_news_covid_mexico_date_text\", mode=mode, properties=properties)"
   ]
  },
  {
   "cell_type": "code",
   "execution_count": 13,
   "metadata": {},
   "outputs": [],
   "source": [
    "df_news_covid_mexico_palabras = df_news_covid_mexico_date_text.select(\"article_id\",\"publish_date\",explode(split(df_news_covid_mexico_date_text.clean_text, \"\\s\")).alias(\"palabra\")).where(length('palabra') > 1)"
   ]
  },
  {
   "cell_type": "code",
   "execution_count": 14,
   "metadata": {},
   "outputs": [
    {
     "name": "stdout",
     "output_type": "stream",
     "text": [
      "+--------------------+-------------------+----------+\n",
      "|          article_id|       publish_date|   palabra|\n",
      "+--------------------+-------------------+----------+\n",
      "|6a07a98230ad362ef...|2020-05-07 00:00:00|      nota|\n",
      "|6a07a98230ad362ef...|2020-05-07 00:00:00|      este|\n",
      "|6a07a98230ad362ef...|2020-05-07 00:00:00|     texto|\n",
      "|6a07a98230ad362ef...|2020-05-07 00:00:00|        se|\n",
      "|6a07a98230ad362ef...|2020-05-07 00:00:00| actualizó|\n",
      "|6a07a98230ad362ef...|2020-05-07 00:00:00|       las|\n",
      "|6a07a98230ad362ef...|2020-05-07 00:00:00|      1245|\n",
      "|6a07a98230ad362ef...|2020-05-07 00:00:00|        de|\n",
      "|6a07a98230ad362ef...|2020-05-07 00:00:00|      mayo|\n",
      "|6a07a98230ad362ef...|2020-05-07 00:00:00|        de|\n",
      "|6a07a98230ad362ef...|2020-05-07 00:00:00|      2020|\n",
      "|6a07a98230ad362ef...|2020-05-07 00:00:00|     luego|\n",
      "|6a07a98230ad362ef...|2020-05-07 00:00:00|        de|\n",
      "|6a07a98230ad362ef...|2020-05-07 00:00:00|       que|\n",
      "|6a07a98230ad362ef...|2020-05-07 00:00:00|reportamos|\n",
      "|6a07a98230ad362ef...|2020-05-07 00:00:00|       las|\n",
      "|6a07a98230ad362ef...|2020-05-07 00:00:00|posiciones|\n",
      "|6a07a98230ad362ef...|2020-05-07 00:00:00|        de|\n",
      "|6a07a98230ad362ef...|2020-05-07 00:00:00|       los|\n",
      "|6a07a98230ad362ef...|2020-05-07 00:00:00|    países|\n",
      "|6a07a98230ad362ef...|2020-05-07 00:00:00|        en|\n",
      "|6a07a98230ad362ef...|2020-05-07 00:00:00|        un|\n",
      "|6a07a98230ad362ef...|2020-05-07 00:00:00| compilado|\n",
      "|6a07a98230ad362ef...|2020-05-07 00:00:00|        de|\n",
      "|6a07a98230ad362ef...|2020-05-07 00:00:00|   muertes|\n",
      "|6a07a98230ad362ef...|2020-05-07 00:00:00|    nuevas|\n",
      "|6a07a98230ad362ef...|2020-05-07 00:00:00|       por|\n",
      "|6a07a98230ad362ef...|2020-05-07 00:00:00|        la|\n",
      "|6a07a98230ad362ef...|2020-05-07 00:00:00|  pandemia|\n",
      "|6a07a98230ad362ef...|2020-05-07 00:00:00|       del|\n",
      "+--------------------+-------------------+----------+\n",
      "only showing top 30 rows\n",
      "\n"
     ]
    }
   ],
   "source": [
    "df_news_covid_mexico_palabras.show(30)"
   ]
  },
  {
   "cell_type": "code",
   "execution_count": 15,
   "metadata": {},
   "outputs": [
    {
     "name": "stdout",
     "output_type": "stream",
     "text": [
      "+--------------------+-------+-------------------+-----+\n",
      "|          article_id|palabra|       publish_date|count|\n",
      "+--------------------+-------+-------------------+-----+\n",
      "|e9cd5af96de5238b8...|     de|2020-05-09 00:00:00|  377|\n",
      "|e007af30319332790...|     de|2020-05-07 00:00:00|  352|\n",
      "|249038fa0de68d615...|     de|2020-07-05 00:00:00|  339|\n",
      "|a501f551553465c3f...|     de|2020-05-06 00:00:00|  333|\n",
      "|cdd17bbabcd40bb3b...|     de|2020-03-29 00:00:00|  331|\n",
      "|3678d188ceeb03e6b...|     de|2020-06-05 00:00:00|  327|\n",
      "|acd5384fe0192a18f...|     de|2020-05-13 00:00:00|  320|\n",
      "|a38a67e29e23b582d...|     de|2020-05-11 00:00:00|  308|\n",
      "|eb0a283d495866e69...|     de|2020-05-10 00:00:00|  304|\n",
      "|2b7a3fb53b9905a69...|     de|2020-03-14 00:00:00|  278|\n",
      "|8d6050c8ce801550d...|     de|2020-03-28 00:00:00|  238|\n",
      "|63113c50ad7d9bba9...|     de|2020-04-05 00:00:00|  235|\n",
      "|cedc44bfb6180a9ac...|     de|2020-04-26 00:00:00|  229|\n",
      "|30d9911177d838db9...|     de|2020-04-09 00:00:00|  225|\n",
      "|a501f551553465c3f...|     la|2020-05-06 00:00:00|  224|\n",
      "|e9cd5af96de5238b8...|     la|2020-05-09 00:00:00|  218|\n",
      "|d7f19c1e6ea2c4e8b...|     de|2020-10-05 00:00:00|  217|\n",
      "|e007af30319332790...|     la|2020-05-07 00:00:00|  215|\n",
      "|30d9911177d838db9...|    que|2020-04-09 00:00:00|  200|\n",
      "|a501f551553465c3f...|     el|2020-05-06 00:00:00|  191|\n",
      "|e007af30319332790...|     el|2020-05-07 00:00:00|  186|\n",
      "|cdd17bbabcd40bb3b...|     la|2020-03-29 00:00:00|  182|\n",
      "|fc9909b4476318e19...|     de|2020-03-31 00:00:00|  180|\n",
      "|1dbedd2dd9c27f044...|     de|2020-02-05 00:00:00|  176|\n",
      "|eb0a283d495866e69...|     la|2020-05-10 00:00:00|  176|\n",
      "+--------------------+-------+-------------------+-----+\n",
      "only showing top 25 rows\n",
      "\n"
     ]
    }
   ],
   "source": [
    "#https://sigdelta.com/blog/word-count-in-spark-with-a-pinch-of-tf-idf/\n",
    "df_news_covid_mexico_palabras.groupBy('article_id', 'palabra','publish_date')\\\n",
    "    .count()\\\n",
    "    .orderBy('count', ascending=False)\\\n",
    "    .show(25)"
   ]
  },
  {
   "cell_type": "code",
   "execution_count": 16,
   "metadata": {},
   "outputs": [
    {
     "name": "stdout",
     "output_type": "stream",
     "text": [
      "+---------------+-------+---------------+---+----+---------------+\n",
      "|     article_id|palabra|   publish_date|n_w| n_d|             tf|\n",
      "+---------------+-------+---------------+---+----+---------------+\n",
      "|e9cd5af96de5...|     de|2020-05-09 0...|377|4735|0.0796198521...|\n",
      "|e007af303193...|     de|2020-05-07 0...|352|4994|0.0704845814...|\n",
      "|249038fa0de6...|     de|2020-07-05 0...|339|4057|0.0835592802...|\n",
      "|a501f5515534...|     de|2020-05-06 0...|333|4688|0.0710324232...|\n",
      "|cdd17bbabcd4...|     de|2020-03-29 0...|331|4066|0.0814067879...|\n",
      "|3678d188ceeb...|     de|2020-06-05 0...|327|3699|0.0884022708...|\n",
      "|acd5384fe019...|     de|2020-05-13 0...|320|3621|0.0883733775...|\n",
      "|a38a67e29e23...|     de|2020-05-11 0...|308|3653|0.0843142622...|\n",
      "|eb0a283d4958...|     de|2020-05-10 0...|304|4275|0.0711111111...|\n",
      "|2b7a3fb53b99...|     de|2020-03-14 0...|278|2867|0.0969654691...|\n",
      "|8d6050c8ce80...|     de|2020-03-28 0...|238|2885|0.0824956672...|\n",
      "|63113c50ad7d...|     de|2020-04-05 0...|235|2967|0.0792045837...|\n",
      "|cedc44bfb618...|     de|2020-04-26 0...|229|2817|0.0812921547...|\n",
      "|30d9911177d8...|     de|2020-04-09 0...|225|3865|0.0582147477...|\n",
      "|a501f5515534...|     la|2020-05-06 0...|224|4688|0.0477815699...|\n",
      "|e9cd5af96de5...|     la|2020-05-09 0...|218|4735|0.0460401267...|\n",
      "|d7f19c1e6ea2...|     de|2020-10-05 0...|217|2204|0.0984573502...|\n",
      "|e007af303193...|     la|2020-05-07 0...|215|4994|0.0430516619...|\n",
      "|30d9911177d8...|    que|2020-04-09 0...|200|3865|0.0517464424...|\n",
      "|a501f5515534...|     el|2020-05-06 0...|191|4688|0.0407423208...|\n",
      "+---------------+-------+---------------+---+----+---------------+\n",
      "only showing top 20 rows\n",
      "\n"
     ]
    }
   ],
   "source": [
    "#https://sigdelta.com/blog/word-count-in-spark-with-a-pinch-of-tf-idf-continued/\n",
    "w = Window.partitionBy(df_news_covid_mexico_palabras['article_id'])\n",
    "\n",
    "article_tf = df_news_covid_mexico_palabras.groupBy('article_id', 'palabra', 'publish_date')\\\n",
    "    .agg(count('*').alias('n_w'),sum(count('*')).over(w).alias('n_d'),(count('*')/sum(count('*')).over(w)).alias('tf'))\\\n",
    "    .orderBy('n_w', ascending=False)\\\n",
    "    .cache()\n",
    "\n",
    "article_tf.show(truncate=15)"
   ]
  },
  {
   "cell_type": "code",
   "execution_count": 17,
   "metadata": {},
   "outputs": [],
   "source": [
    "w = Window.partitionBy('palabra')\n",
    "\n",
    "c_d = df_news_covid_mexico_palabras.select('article_id').distinct().count()\n",
    "\n",
    "article_idf = df_news_covid_mexico_palabras.groupBy('palabra', 'article_id','publish_date').agg(\n",
    "        lit(c_d).alias('c_d'),\n",
    "        count('*').over(w).alias('i_d'),\n",
    "        log(lit(c_d)/count('*').over(w)).alias('idf')\n",
    "    )\\\n",
    "    .orderBy('idf', ascending=False)\\\n",
    "    .cache()"
   ]
  },
  {
   "cell_type": "code",
   "execution_count": 18,
   "metadata": {},
   "outputs": [
    {
     "name": "stdout",
     "output_type": "stream",
     "text": [
      "+---------------+---------------+---------------+----+---+---------------+\n",
      "|        palabra|     article_id|   publish_date| c_d|i_d|            idf|\n",
      "+---------------+---------------+---------------+----+---+---------------+\n",
      "|           201’|038da904a144...|2020-01-11 0...|1294|  1|7.1654934750...|\n",
      "|           2136|370853b8e0eb...|2020-01-21 0...|1294|  1|7.1654934750...|\n",
      "|           2162|70ffaf20effa...|2020-01-02 0...|1294|  1|7.1654934750...|\n",
      "|        3267184|906f7950de61...|2020-05-03 0...|1294|  1|7.1654934750...|\n",
      "|           3414|ccbf475555be...|2020-05-06 0...|1294|  1|7.1654934750...|\n",
      "|           4821|a78b641ef212...|2020-02-06 0...|1294|  1|7.1654934750...|\n",
      "|            691|377b116e873e...|2020-05-06 0...|1294|  1|7.1654934750...|\n",
      "|     arbitrajes|a760a8f1cf3b...|2020-01-19 0...|1294|  1|7.1654934750...|\n",
      "|    artesanales|eb0a283d4958...|2020-05-10 0...|1294|  1|7.1654934750...|\n",
      "|     asistiendo|722156625331...|2020-02-17 0...|1294|  1|7.1654934750...|\n",
      "|         azpiri|d7f19c1e6ea2...|2020-10-05 0...|1294|  1|7.1654934750...|\n",
      "|        baratos|3678d188ceeb...|2020-06-05 0...|1294|  1|7.1654934750...|\n",
      "|         brands|2371f5980a3f...|2020-03-27 0...|1294|  1|7.1654934750...|\n",
      "|calderónbarbosa|ed02c5f3f548...|2020-03-27 0...|1294|  1|7.1654934750...|\n",
      "|  cancúnreynosa|ff9479092706...|2020-05-06 0...|1294|  1|7.1654934750...|\n",
      "|       carnegie|45151f415570...|2020-05-06 0...|1294|  1|7.1654934750...|\n",
      "|         carpha|b5a1e411258b...|2020-02-18 0...|1294|  1|7.1654934750...|\n",
      "|       cautious|617783c8693f...|2020-02-10 0...|1294|  1|7.1654934750...|\n",
      "|   confundirnos|ea5c43e6ca21...|2020-02-04 0...|1294|  1|7.1654934750...|\n",
      "|   contraatacar|768dc74c526a...|2020-04-13 0...|1294|  1|7.1654934750...|\n",
      "|correosdemexico|a501f5515534...|2020-05-06 0...|1294|  1|7.1654934750...|\n",
      "|coyunturalmente|4c361d9e30b1...|2020-02-11 0...|1294|  1|7.1654934750...|\n",
      "|        cruenta|5de0769b862e...|2020-05-11 0...|1294|  1|7.1654934750...|\n",
      "|        dejadas|3e0c59456c01...|2020-05-13 0...|1294|  1|7.1654934750...|\n",
      "|      desprecia|dadf699a1238...|2020-01-09 0...|1294|  1|7.1654934750...|\n",
      "|          dicte|5498cf9072e7...|2020-04-29 0...|1294|  1|7.1654934750...|\n",
      "|           didi|4ab1c909d939...|2020-02-10 0...|1294|  1|7.1654934750...|\n",
      "|     distancing|617783c8693f...|2020-02-10 0...|1294|  1|7.1654934750...|\n",
      "|     distinguen|bf89cd75d229...|2020-03-29 0...|1294|  1|7.1654934750...|\n",
      "|         eligen|88914f084d65...|2020-02-21 0...|1294|  1|7.1654934750...|\n",
      "|           elsa|1ed3cc650e45...|2020-05-08 0...|1294|  1|7.1654934750...|\n",
      "|         emtirá|6a0f15ef9478...|2020-03-24 0...|1294|  1|7.1654934750...|\n",
      "|      enfundado|7054dec4bc2d...|2020-01-24 0...|1294|  1|7.1654934750...|\n",
      "|   especilistas|51a312dfde4c...|2020-04-03 0...|1294|  1|7.1654934750...|\n",
      "|      estamento|0d2653d0e690...|2020-05-06 0...|1294|  1|7.1654934750...|\n",
      "|      exquisito|e9cd5af96de5...|2020-05-09 0...|1294|  1|7.1654934750...|\n",
      "|     extenderán|d20b2b1b08ee...|2020-05-05 0...|1294|  1|7.1654934750...|\n",
      "|       fallecía|63113c50ad7d...|2020-04-05 0...|1294|  1|7.1654934750...|\n",
      "|    financiaría|fa8abfa07296...|2020-03-07 0...|1294|  1|7.1654934750...|\n",
      "|        galenos|b2322738cdb4...|2020-04-17 0...|1294|  1|7.1654934750...|\n",
      "|          globo|be1404283824...|2020-03-10 0...|1294|  1|7.1654934750...|\n",
      "|       heinrich|88c6f33d4be2...|2020-10-05 0...|1294|  1|7.1654934750...|\n",
      "|httpstcod3op...|a3001b8e2010...|2020-01-23 0...|1294|  1|7.1654934750...|\n",
      "|    implantarse|902ad6746364...|2020-04-13 0...|1294|  1|7.1654934750...|\n",
      "|    improvisada|4e4dbbc30f69...|2020-05-05 0...|1294|  1|7.1654934750...|\n",
      "|      indicator|617783c8693f...|2020-02-10 0...|1294|  1|7.1654934750...|\n",
      "|   inflammatory|da048e219554...|2020-05-12 0...|1294|  1|7.1654934750...|\n",
      "|       juntando|28add87a0f9d...|2020-05-05 0...|1294|  1|7.1654934750...|\n",
      "|jurisprudencias|4fe8386e08e1...|2020-03-02 0...|1294|  1|7.1654934750...|\n",
      "|       lineales|e1dad449ad2d...|2020-05-12 0...|1294|  1|7.1654934750...|\n",
      "|      lingüista|88914f084d65...|2020-02-21 0...|1294|  1|7.1654934750...|\n",
      "|       medicare|fa8abfa07296...|2020-03-07 0...|1294|  1|7.1654934750...|\n",
      "|   modernizadas|4e0650e2b2ec...|2020-05-03 0...|1294|  1|7.1654934750...|\n",
      "|          monte|e1a5c7278bbf...|2020-01-01 0...|1294|  1|7.1654934750...|\n",
      "|           no47|b7da0a3dc029...|2020-05-14 0...|1294|  1|7.1654934750...|\n",
      "|        nudista|cdd17bbabcd4...|2020-03-29 0...|1294|  1|7.1654934750...|\n",
      "|        peleado|feb45187bd79...|2020-01-05 0...|1294|  1|7.1654934750...|\n",
      "|          podia|5292556944c5...|2020-01-13 0...|1294|  1|7.1654934750...|\n",
      "|    presentarle|a38a67e29e23...|2020-05-11 0...|1294|  1|7.1654934750...|\n",
      "|     provocarla|bd9149e0c56f...|2020-02-11 0...|1294|  1|7.1654934750...|\n",
      "|     rescatadas|3eb3c5512858...|2020-03-07 0...|1294|  1|7.1654934750...|\n",
      "|          risas|1c2744bf54cf...|2020-01-11 0...|1294|  1|7.1654934750...|\n",
      "|          skoog|fed12027ef0a...|2020-05-08 0...|1294|  1|7.1654934750...|\n",
      "|          still|d26e91f66a76...|2020-02-06 0...|1294|  1|7.1654934750...|\n",
      "|      sustituía|c857d47d1b09...|2020-01-19 0...|1294|  1|7.1654934750...|\n",
      "|        tanques|cbac1d6fbf24...|2020-01-01 0...|1294|  1|7.1654934750...|\n",
      "|      terremoto|dfd682e6a107...|2020-03-22 0...|1294|  1|7.1654934750...|\n",
      "|       turnados|d52772b6c18d...|2020-01-30 0...|1294|  1|7.1654934750...|\n",
      "|  ultravioletas|eb0a283d4958...|2020-05-10 0...|1294|  1|7.1654934750...|\n",
      "|  villabasílica|9b854f79445e...|2020-05-05 0...|1294|  1|7.1654934750...|\n",
      "|       vladimir|acc5864629ef...|2020-03-04 0...|1294|  1|7.1654934750...|\n",
      "|        volando|90543c78becb...|2020-04-09 0...|1294|  1|7.1654934750...|\n",
      "|     vulnerando|b2322738cdb4...|2020-04-17 0...|1294|  1|7.1654934750...|\n",
      "|            wto|c15047acf463...|2020-05-01 0...|1294|  1|7.1654934750...|\n",
      "|         yazaki|8cbec530c0af...|2020-05-07 0...|1294|  1|7.1654934750...|\n",
      "|            ¿sí|30d9911177d8...|2020-04-09 0...|1294|  1|7.1654934750...|\n",
      "|          13985|91dfbfcdff31...|2020-04-03 0...|1294|  1|7.1654934750...|\n",
      "|           2110|e149baa58003...|2020-05-06 0...|1294|  1|7.1654934750...|\n",
      "|           3015|3f991a20fd16...|2020-03-05 0...|1294|  1|7.1654934750...|\n",
      "|           3441|f7ee3835e639...|2020-04-09 0...|1294|  1|7.1654934750...|\n",
      "|      56seguido|0c01fd0fa695...|2020-03-23 0...|1294|  1|7.1654934750...|\n",
      "|           9407|2593f91a6ab1...|2020-04-05 0...|1294|  1|7.1654934750...|\n",
      "|      alargaría|b26774d20f71...|2020-05-12 0...|1294|  1|7.1654934750...|\n",
      "|     amplificar|b31da4af152f...|2020-05-05 0...|1294|  1|7.1654934750...|\n",
      "|aplanalacurv...|e007af303193...|2020-05-07 0...|1294|  1|7.1654934750...|\n",
      "|          assad|feb45187bd79...|2020-01-05 0...|1294|  1|7.1654934750...|\n",
      "|    autocuidado|dfa367fd433b...|2020-03-08 0...|1294|  1|7.1654934750...|\n",
      "|        bencomo|acd5384fe019...|2020-05-13 0...|1294|  1|7.1654934750...|\n",
      "|          cabal|f45a26c1c6f1...|2020-02-29 0...|1294|  1|7.1654934750...|\n",
      "|       calderon|ed02c5f3f548...|2020-03-27 0...|1294|  1|7.1654934750...|\n",
      "|       calexico|3d89c9721c53...|2020-01-11 0...|1294|  1|7.1654934750...|\n",
      "|      campanas’|101000104f26...|2020-02-14 0...|1294|  1|7.1654934750...|\n",
      "|          chila|868ac30fe815...|2020-04-09 0...|1294|  1|7.1654934750...|\n",
      "|    comportando|30d9911177d8...|2020-04-09 0...|1294|  1|7.1654934750...|\n",
      "|   comprobación|30d9911177d8...|2020-04-09 0...|1294|  1|7.1654934750...|\n",
      "|     confundido|201e0b353c8f...|2020-02-07 0...|1294|  1|7.1654934750...|\n",
      "|    consecución|3bcf4166fa46...|2020-06-05 0...|1294|  1|7.1654934750...|\n",
      "|      continuos|ae3b54540355...|2020-05-12 0...|1294|  1|7.1654934750...|\n",
      "|    convirtiera|77cc3613b72b...|2020-04-22 0...|1294|  1|7.1654934750...|\n",
      "|       céntrico|73e98e64519a...|2020-05-01 0...|1294|  1|7.1654934750...|\n",
      "|     dictámenes|11a1f623e531...|2020-05-08 0...|1294|  1|7.1654934750...|\n",
      "|   diegotijuana|5bdd03476351...|2020-05-12 0...|1294|  1|7.1654934750...|\n",
      "|         diseña|589dd25823cd...|2020-05-05 0...|1294|  1|7.1654934750...|\n",
      "|         electo|50645b4bbf59...|2020-01-15 0...|1294|  1|7.1654934750...|\n",
      "|          elisa|1c2744bf54cf...|2020-01-11 0...|1294|  1|7.1654934750...|\n",
      "|           fama|18889fdf5064...|2020-05-11 0...|1294|  1|7.1654934750...|\n",
      "|      femeninos|f257007be2a4...|2020-03-29 0...|1294|  1|7.1654934750...|\n",
      "|     finalistas|7163c88cf142...|2020-01-10 0...|1294|  1|7.1654934750...|\n",
      "|       fluyendo|2371f5980a3f...|2020-03-27 0...|1294|  1|7.1654934750...|\n",
      "|       fuéramos|ea5c43e6ca21...|2020-02-04 0...|1294|  1|7.1654934750...|\n",
      "|     gobiernito|a92eeab6125f...|2020-04-14 0...|1294|  1|7.1654934750...|\n",
      "|        grisham|a7b9e8f747e3...|2020-03-08 0...|1294|  1|7.1654934750...|\n",
      "|      imperante|db4e2a12121a...|2020-01-24 0...|1294|  1|7.1654934750...|\n",
      "|        influya|175a7713f65e...|2020-03-23 0...|1294|  1|7.1654934750...|\n",
      "|    instructivo|a6d575ef3f79...|2020-03-25 0...|1294|  1|7.1654934750...|\n",
      "|          itsmo|e6d6c197c03b...|2020-05-05 0...|1294|  1|7.1654934750...|\n",
      "|        liceaga|c857d47d1b09...|2020-01-19 0...|1294|  1|7.1654934750...|\n",
      "|      litorales|4d55b7d939c0...|2020-01-18 0...|1294|  1|7.1654934750...|\n",
      "|         lloran|3a943f6660e4...|2020-05-08 0...|1294|  1|7.1654934750...|\n",
      "|         logran|36e44ed49f99...|2020-05-12 0...|1294|  1|7.1654934750...|\n",
      "|           lucy|4e4f2b7373d5...|2020-05-13 0...|1294|  1|7.1654934750...|\n",
      "|macroeconómicos|cff296c169be...|2020-04-17 0...|1294|  1|7.1654934750...|\n",
      "|          mafia|f3abb076f3f6...|2020-01-08 0...|1294|  1|7.1654934750...|\n",
      "|           mal–|5201af5f4eb0...|2020-05-13 0...|1294|  1|7.1654934750...|\n",
      "|  marianaarceo7|30da7114bfef...|2020-03-18 0...|1294|  1|7.1654934750...|\n",
      "|       motivada|3a943f6660e4...|2020-05-08 0...|1294|  1|7.1654934750...|\n",
      "|      ocultaban|8ebb1851c94d...|2020-01-07 0...|1294|  1|7.1654934750...|\n",
      "|           olas|b33da0748de2...|2020-05-14 0...|1294|  1|7.1654934750...|\n",
      "|      operation|d26e91f66a76...|2020-02-06 0...|1294|  1|7.1654934750...|\n",
      "|         orinar|6b084647cd40...|2020-01-23 0...|1294|  1|7.1654934750...|\n",
      "|        oscilar|fb43d005292a...|2020-01-04 0...|1294|  1|7.1654934750...|\n",
      "|        painted|617783c8693f...|2020-02-10 0...|1294|  1|7.1654934750...|\n",
      "|      penalizar|be1404283824...|2020-03-10 0...|1294|  1|7.1654934750...|\n",
      "|        periplo|8ccc7aeb90bc...|2020-05-05 0...|1294|  1|7.1654934750...|\n",
      "|pictwitterco...|c914c49f30ae...|2020-05-04 0...|1294|  1|7.1654934750...|\n",
      "|       portaron|304c40628e41...|2020-04-12 0...|1294|  1|7.1654934750...|\n",
      "|    posdoctoral|45151f415570...|2020-05-06 0...|1294|  1|7.1654934750...|\n",
      "|    posposición|1ed9c2af8683...|2020-05-06 0...|1294|  1|7.1654934750...|\n",
      "|   predecesores|c15047acf463...|2020-05-01 0...|1294|  1|7.1654934750...|\n",
      "|     preguntaba|30d9911177d8...|2020-04-09 0...|1294|  1|7.1654934750...|\n",
      "|   presentarían|82a495f32130...|2020-03-12 0...|1294|  1|7.1654934750...|\n",
      "|      presionan|fb43d005292a...|2020-01-04 0...|1294|  1|7.1654934750...|\n",
      "|   reaccionaron|63113c50ad7d...|2020-04-05 0...|1294|  1|7.1654934750...|\n",
      "|       recluido|5ffc03a87718...|2020-01-15 0...|1294|  1|7.1654934750...|\n",
      "|      reinserta|d0fcc4dd95f3...|2020-05-07 0...|1294|  1|7.1654934750...|\n",
      "|      resguardó|b990c84f5850...|2020-01-11 0...|1294|  1|7.1654934750...|\n",
      "|      segobcdmx|b6e68551d99a...|2020-01-29 0...|1294|  1|7.1654934750...|\n",
      "|          staff|7054dec4bc2d...|2020-01-24 0...|1294|  1|7.1654934750...|\n",
      "|       stations|ce2cf980f7a9...|2020-04-03 0...|1294|  1|7.1654934750...|\n",
      "|         tambén|1dfd977bb33b...|2020-04-15 0...|1294|  1|7.1654934750...|\n",
      "+---------------+---------------+---------------+----+---+---------------+\n",
      "only showing top 150 rows\n",
      "\n"
     ]
    }
   ],
   "source": [
    "article_idf.show(150, truncate=15)"
   ]
  },
  {
   "cell_type": "code",
   "execution_count": 19,
   "metadata": {},
   "outputs": [],
   "source": [
    "article_tfidf = article_tf.join(article_idf, ['article_id', 'palabra', 'publish_date'])\\\n",
    "    .withColumn('tf_idf', col('tf') * col('idf'))\\\n",
    "    .cache()"
   ]
  },
  {
   "cell_type": "code",
   "execution_count": 20,
   "metadata": {},
   "outputs": [
    {
     "name": "stdout",
     "output_type": "stream",
     "text": [
      "+------------+------------+------------+---+---+------------+----+---+------------+------------+\n",
      "|  article_id|     palabra|publish_date|n_w|n_d|          tf| c_d|i_d|         idf|      tf_idf|\n",
      "+------------+------------+------------+---+---+------------+----+---+------------+------------+\n",
      "|8605697c7...|    palenque|2020-02-0...|  1| 11|0.0909090...|1294|  1|7.1654934...|0.6514084...|\n",
      "|8605697c7...|       toros|2020-02-0...|  1| 11|0.0909090...|1294|  2|6.4723462...|0.5883951...|\n",
      "|8605697c7...|     barbosa|2020-02-0...|  1| 11|0.0909090...|1294| 12|4.6805868...|0.4255078...|\n",
      "|f2bdf750a...|mexicoaer...|2020-05-0...|  2| 34|0.0588235...|1294|  1|7.1654934...|0.4214996...|\n",
      "|8605697c7...|     anuncia|2020-02-0...|  1| 11|0.0909090...|1294| 14|4.5264361...|0.4114941...|\n",
      "|8605697c7...|       plaza|2020-02-0...|  1| 11|0.0909090...|1294| 16|4.3929047...|0.3993549...|\n",
      "|70ffaf20e...|     premium|2020-01-0...| 19|296|0.0641891...|1294|  7|5.2195833...|0.3350408...|\n",
      "|70ffaf20e...|      diesel|2020-01-0...| 19|296|0.0641891...|1294|  7|5.2195833...|0.3350408...|\n",
      "|70ffaf20e...|       magna|2020-01-0...| 19|296|0.0641891...|1294|  8|5.0860519...|0.3264695...|\n",
      "|4fbd1e060...|     premium|2020-01-2...| 17|272|      0.0625|1294|  7|5.2195833...|0.3262239...|\n",
      "|4fbd1e060...|      diesel|2020-01-2...| 17|272|      0.0625|1294|  7|5.2195833...|0.3262239...|\n",
      "|8b7f93b56...|      diesel|2020-01-0...| 15|245|0.0612244...|1294|  7|5.2195833...|0.3195663...|\n",
      "|8b7f93b56...|     premium|2020-01-0...| 15|245|0.0612244...|1294|  7|5.2195833...|0.3195663...|\n",
      "|10e0b33a7...|      diesel|2020-01-1...| 15|246|0.0609756...|1294|  7|5.2195833...|0.3182672...|\n",
      "|85da63d8b...|      diesel|2020-01-1...| 15|246|0.0609756...|1294|  7|5.2195833...|0.3182672...|\n",
      "|10e0b33a7...|     premium|2020-01-1...| 15|246|0.0609756...|1294|  7|5.2195833...|0.3182672...|\n",
      "|85da63d8b...|     premium|2020-01-1...| 15|246|0.0609756...|1294|  7|5.2195833...|0.3182672...|\n",
      "|4fbd1e060...|       magna|2020-01-2...| 17|272|      0.0625|1294|  8|5.0860519...|0.3178782...|\n",
      "|370853b8e...|      diesel|2020-01-2...| 15|248|0.0604838...|1294|  7|5.2195833...|0.3157006...|\n",
      "|370853b8e...|     premium|2020-01-2...| 15|248|0.0604838...|1294|  7|5.2195833...|0.3157006...|\n",
      "|8b7f93b56...|       magna|2020-01-0...| 15|245|0.0612244...|1294|  8|5.0860519...|0.3113909...|\n",
      "|85da63d8b...|       magna|2020-01-1...| 15|246|0.0609756...|1294|  8|5.0860519...|0.3101251...|\n",
      "|10e0b33a7...|       magna|2020-01-1...| 15|246|0.0609756...|1294|  8|5.0860519...|0.3101251...|\n",
      "|370853b8e...|       magna|2020-01-2...| 15|248|0.0604838...|1294|  8|5.0860519...|0.3076241...|\n",
      "|a6e6bc404...|  comentario|2020-02-1...|  2| 38|0.0526315...|1294|  5|5.5560555...|0.2924239...|\n",
      "|70ffaf20e...|    gasolina|2020-01-0...| 19|296|0.0641891...|1294| 14|4.5264361...|0.2905482...|\n",
      "|8605697c7...|construcción|2020-02-0...|  1| 11|0.0909090...|1294| 55|3.1581602...|0.2871054...|\n",
      "|4fbd1e060...|    gasolina|2020-01-2...| 17|272|      0.0625|1294| 14|4.5264361...|0.2829022...|\n",
      "|8b7f93b56...|    gasolina|2020-01-0...| 15|245|0.0612244...|1294| 14|4.5264361...|0.2771287...|\n",
      "|10e0b33a7...|    gasolina|2020-01-1...| 15|246|0.0609756...|1294| 14|4.5264361...|0.2760022...|\n",
      "|85da63d8b...|    gasolina|2020-01-1...| 15|246|0.0609756...|1294| 14|4.5264361...|0.2760022...|\n",
      "|370853b8e...|    gasolina|2020-01-2...| 15|248|0.0604838...|1294| 14|4.5264361...|0.2737763...|\n",
      "|fe12cc2e5...|    barriles|2020-01-0...| 10|224|0.0446428...|1294|  3|6.0668811...|0.2708429...|\n",
      "|24278991b...|         eua|2020-01-1...|  3| 71|0.0422535...|1294|  3|6.0668811...|0.2563470...|\n",
      "|5ff0fbe78...|extorsion...|2020-02-0...|  3| 84|0.0357142...|1294|  1|7.1654934...|0.2559104...|\n",
      "|17b98f115...|    vitamina|2020-05-0...| 10|305|0.0327868...|1294|  1|7.1654934...|0.2349342...|\n",
      "|b25669198...|  verdaderas|2020-04-2...|  1| 31|0.0322580...|1294|  1|7.1654934...|0.2311449...|\n",
      "|b25669198...|   telemundo|2020-04-2...|  1| 31|0.0322580...|1294|  1|7.1654934...|0.2311449...|\n",
      "|70ffaf20e...|      precio|2020-01-0...| 19|296|0.0641891...|1294| 39|3.5019318...|0.2247861...|\n",
      "|2f75bfaed...|        audi|2020-01-1...| 17|438|0.0388127...|1294|  4|5.7791991...|0.2243068...|\n",
      "|d94f7e7fc...|     meteoro|2020-01-1...|  3| 96|     0.03125|1294|  1|7.1654934...|0.2239216...|\n",
      "|0d9f4207a...|      toyota|2020-01-1...|  6|176|0.0340909...|1294|  2|6.4723462...|0.2206481...|\n",
      "|4fbd1e060...|      precio|2020-01-2...| 17|272|      0.0625|1294| 39|3.5019318...|0.2188707...|\n",
      "|8b7f93b56...|      precio|2020-01-0...| 15|245|0.0612244...|1294| 39|3.5019318...|0.2144039...|\n",
      "|617783c86...|         the|2020-02-1...| 33|511|0.0645792...|1294| 47|3.3153458...|0.2141025...|\n",
      "|d26e91f66...|          to|2020-02-0...| 22|452|0.0486725...|1294| 16|4.3929047...|0.2138139...|\n",
      "|10e0b33a7...|      precio|2020-01-1...| 15|246|0.0609756...|1294| 39|3.5019318...|0.2135324...|\n",
      "|85da63d8b...|      precio|2020-01-1...| 15|246|0.0609756...|1294| 39|3.5019318...|0.2135324...|\n",
      "|370853b8e...|      precio|2020-01-2...| 15|248|0.0604838...|1294| 39|3.5019318...|0.2118103...|\n",
      "|255fb2440...|     montero|2020-01-0...|  5|170|0.0294117...|1294|  1|7.1654934...|0.2107498...|\n",
      "|f2bdf750a...|comunicarnos|2020-05-0...|  1| 34|0.0294117...|1294|  1|7.1654934...|0.2107498...|\n",
      "|f2bdf750a...|      súmate|2020-05-0...|  1| 34|0.0294117...|1294|  1|7.1654934...|0.2107498...|\n",
      "|f2bdf750a...|  espaciales|2020-05-0...|  1| 34|0.0294117...|1294|  1|7.1654934...|0.2107498...|\n",
      "|e59dfafb3...|      virgen|2020-05-1...|  6|176|0.0340909...|1294|  3|6.0668811...|0.2068254...|\n",
      "|70c2bcc8e...|       besos|2020-02-1...| 19|496|0.0383064...|1294|  6|5.3737340...|0.2058486...|\n",
      "|64c9097ed...|          mx|2020-03-1...| 10|214|0.0467289...|1294| 16|4.3929047...|0.2052759...|\n",
      "|ae94841e9...|    napoleón|2020-01-1...|  3|105|0.0285714...|1294|  1|7.1654934...|0.2047283...|\n",
      "|5e0b759c4...|     pilares|2020-01-1...|  3| 91|0.0329670...|1294|  3|6.0668811...|0.2000070...|\n",
      "|2a732dcf5...|        kilo|2020-03-2...| 13|422|0.0308056...|1294|  2|6.4723462...|0.1993850...|\n",
      "|1c6c1cd78...|      dóriga|2020-03-1...|  2| 61|0.0327868...|1294|  3|6.0668811...|0.1989141...|\n",
      "|b25669198...|   averiguar|2020-04-2...|  1| 31|0.0322580...|1294|  3|6.0668811...|0.1957058...|\n",
      "|9c1b1bf5c...|      coppel|2020-01-1...|  9|267|0.0337078...|1294|  4|5.7791991...|0.1948044...|\n",
      "|d6f6bade9...|urbanización|2020-05-1...|  1| 37|0.0270270...|1294|  1|7.1654934...|0.1936619...|\n",
      "|d6f6bade9...|   ignoraron|2020-05-1...|  1| 37|0.0270270...|1294|  1|7.1654934...|0.1936619...|\n",
      "|f2bdf750a...| bienvenidos|2020-05-0...|  1| 34|0.0294117...|1294|  2|6.4723462...|0.1903631...|\n",
      "|a6e6bc404...|  vulgaridad|2020-02-1...|  1| 38|0.0263157...|1294|  1|7.1654934...|0.1885656...|\n",
      "|a6e6bc404...|     ofensas|2020-02-1...|  1| 38|0.0263157...|1294|  1|7.1654934...|0.1885656...|\n",
      "|a6e6bc404...|  difamación|2020-02-1...|  1| 38|0.0263157...|1294|  1|7.1654934...|0.1885656...|\n",
      "|a6e6bc404...|aristegui...|2020-02-1...|  1| 38|0.0263157...|1294|  1|7.1654934...|0.1885656...|\n",
      "|a6e6bc404...|     escribe|2020-02-1...|  1| 38|0.0263157...|1294|  1|7.1654934...|0.1885656...|\n",
      "|8605697c7...|       nueva|2020-02-0...|  1| 11|0.0909090...|1294|167|2.0474996...|0.1861363...|\n",
      "|01af414af...|   chumpitaz|2020-02-0...|  6|231|0.0259740...|1294|  1|7.1654934...|0.1861167...|\n",
      "|3b2b9fba0...|    aguacate|2020-01-3...|  6|198|0.0303030...|1294|  3|6.0668811...|0.1838448...|\n",
      "|70ffaf20e...|    promedio|2020-01-0...| 18|296|0.0608108...|1294| 63|3.0223587...|0.1837920...|\n",
      "|d26e91f66...|         the|2020-02-0...| 25|452|0.0553097...|1294| 47|3.3153458...|0.1833709...|\n",
      "|7212fda15...|        2785|2020-04-0...|  4|157|0.0254777...|1294|  1|7.1654934...|0.1825603...|\n",
      "|24278991b...| arriesgarse|2020-01-1...|  2| 71|0.0281690...|1294|  2|6.4723462...|0.1823196...|\n",
      "|b25669198...|    calculan|2020-04-2...|  1| 31|0.0322580...|1294|  5|5.5560555...|0.1792275...|\n",
      "|ff571f627...|      robbie|2020-01-2...|  2| 80|       0.025|1294|  1|7.1654934...|0.1791373...|\n",
      "|4fbd1e060...|    promedio|2020-01-2...| 16|272|0.0588235...|1294| 63|3.0223587...|0.1777858...|\n",
      "|90313cf9e...|     banorte|2020-01-1...|  7|239|0.0292887...|1294|  3|6.0668811...|0.1776910...|\n",
      "|5ff0fbe78...|   presuntos|2020-02-0...|  3| 84|0.0357142...|1294|  9|4.9682688...|0.1774381...|\n",
      "|d26e91f66...|        says|2020-02-0...| 11|452|0.0243362...|1294|  1|7.1654934...|0.1743814...|\n",
      "|8b7f93b56...|    promedio|2020-01-0...| 14|245|0.0571428...|1294| 63|3.0223587...|0.1727062...|\n",
      "|74d46fd8c...|      prieto|2020-01-1...|  2| 75|0.0266666...|1294|  2|6.4723462...|0.1725959...|\n",
      "|10e0b33a7...|    promedio|2020-01-1...| 14|246|0.0569105...|1294| 63|3.0223587...|0.1720041...|\n",
      "|85da63d8b...|    promedio|2020-01-1...| 14|246|0.0569105...|1294| 63|3.0223587...|0.1720041...|\n",
      "|64c9097ed...|        liga|2020-03-1...|  9|214|0.0420560...|1294| 22|4.0744510...|0.1713554...|\n",
      "|370853b8e...|    promedio|2020-01-2...| 14|248|0.0564516...|1294| 63|3.0223587...|0.1706170...|\n",
      "|a6e6bc404...|   invitamos|2020-02-1...|  1| 38|0.0263157...|1294|  2|6.4723462...|0.1703249...|\n",
      "|a6e6bc404...|    removido|2020-02-1...|  1| 38|0.0263157...|1294|  2|6.4723462...|0.1703249...|\n",
      "|f2bdf750a...|      editor|2020-05-0...|  1| 34|0.0294117...|1294|  4|5.7791991...|0.1699764...|\n",
      "|98cb1c805...|     crucero|2020-02-2...|  6|180|0.0333333...|1294|  8|5.0860519...|0.1695350...|\n",
      "|3c69b2e4c...|        peso|2020-01-1...|  5|109|0.0458715...|1294| 33|3.6689859...|0.1683021...|\n",
      "|ea31a7709...|     remesas|2020-05-0...|  7|201|0.0348258...|1294| 11|4.7675982...|0.1660357...|\n",
      "|21ad0e17e...|       avión|2020-01-0...|  8|176|0.0454545...|1294| 34|3.6391329...|0.1654151...|\n",
      "|787023d4e...|   negativos|2020-04-1...| 32|470|0.0680851...|1294|116|2.4119032...|0.1642146...|\n",
      "|d6f6bade9...|manifestarse|2020-05-1...|  1| 37|0.0270270...|1294|  3|6.0668811...|0.1639697...|\n",
      "|a2e1190b9...|        fury|2020-02-2...|  5|219|0.0228310...|1294|  1|7.1654934...|0.1635957...|\n",
      "|dc327e71b...|  university|2020-02-2...|  6|212|0.0283018...|1294|  4|5.7791991...|0.1635622...|\n",
      "|f2bdf750a...|    aviación|2020-05-0...|  1| 34|0.0294117...|1294|  5|5.5560555...|0.1634133...|\n",
      "|cacd49d0f...|      irving|2020-01-0...| 11|483|0.0227743...|1294|  1|7.1654934...|0.1631892...|\n",
      "|0d9f4207a...|      tacoma|2020-01-1...|  4|176|0.0227272...|1294|  1|7.1654934...|0.1628521...|\n",
      "|d5c49c16d...|   depresión|2020-01-1...| 10|303|0.0330033...|1294| 10|4.8629083...|0.1604920...|\n",
      "|bd009bbc2...|  militantes|2020-01-0...|  6|242|0.0247933...|1294|  2|6.4723462...|0.1604713...|\n",
      "|b25669198...|  encargados|2020-04-2...|  1| 31|0.0322580...|1294|  9|4.9682688...|0.1602667...|\n",
      "|18889fdf5...|        phil|2020-05-1...| 10|457|0.0218818...|1294|  1|7.1654934...|0.1567941...|\n",
      "|d6f6bade9...|       lomas|2020-05-1...|  1| 37|0.0270270...|1294|  4|5.7791991...|0.1561945...|\n",
      "|617783c86...|          to|2020-02-1...| 18|511|0.0352250...|1294| 16|4.3929047...|0.1547402...|\n",
      "|69954be6c...|      lesión|2020-02-1...|  5|187|0.0267379...|1294|  4|5.7791991...|0.1545240...|\n",
      "|617783c86...|   emissions|2020-02-1...| 11|511|0.0215264...|1294|  1|7.1654934...|0.1542474...|\n",
      "|7054dec4b...|     diablos|2020-01-2...|  2| 93|0.0215053...|1294|  1|7.1654934...|0.1540966...|\n",
      "|f2bdf750a...|   referente|2020-05-0...|  1| 34|0.0294117...|1294|  7|5.2195833...|0.1535171...|\n",
      "|69954be6c...|     verdugo|2020-02-1...|  4|187|0.0213903...|1294|  1|7.1654934...|0.1532725...|\n",
      "|e123e1fc0...|         cfe|2020-04-1...| 10|351|0.0284900...|1294|  6|5.3737340...|0.1530978...|\n",
      "|d26e91f66...|         and|2020-02-0...| 15|452|0.0331858...|1294| 13|4.6005441...|0.1526729...|\n",
      "|8905f628d...|      caseta|2020-01-0...|  2| 85|0.0235294...|1294|  2|6.4723462...|0.1522905...|\n",
      "|7b502726e...| alejandrina|2020-02-0...|  9|383|0.0234986...|1294|  2|6.4723462...|0.1520916...|\n",
      "|a6e6bc404...|   opiniones|2020-02-1...|  1| 38|0.0263157...|1294|  4|5.7791991...|0.1520841...|\n",
      "|a811c9701...|     obispos|2020-01-2...|  4|153|0.0261437...|1294|  4|5.7791991...|0.1510901...|\n",
      "|b74a4f535...|      órbita|2020-02-1...|  4|190|0.0210526...|1294|  1|7.1654934...|0.1508524...|\n",
      "|9f6faa8e5...|      homero|2020-01-3...|  6|259|0.0231660...|1294|  2|6.4723462...|0.1499385...|\n",
      "|90313cf9e...|    sinosure|2020-01-1...|  5|239|0.0209205...|1294|  1|7.1654934...|0.1499057...|\n",
      "|d4dbe93e6...| laboratorio|2020-03-2...| 33|611|0.0540098...|1294| 82|2.7587742...|0.1490008...|\n",
      "|bc1f31d8f...|       mejor|2020-02-0...|  3| 53|0.0566037...|1294| 94|2.6221986...|0.1484263...|\n",
      "|2fb4cb177...|          av|2020-01-1...|  6|290|0.0206896...|1294|  1|7.1654934...|0.1482515...|\n",
      "|e880b0acf...| extradición|2020-01-1...|  4|156|0.0256410...|1294|  4|5.7791991...|0.1481845...|\n",
      "|07328ee18...|    heparina|2020-05-1...|  5|242|0.0206611...|1294|  1|7.1654934...|0.1480473...|\n",
      "|8feb917b9...|       sopot|2020-01-0...|  3|146|0.0205479...|1294|  1|7.1654934...|0.1472361...|\n",
      "|07614fa9a...|        1094|2020-03-3...|  1| 49|0.0204081...|1294|  1|7.1654934...|0.1462345...|\n",
      "|07614fa9a...|        5635|2020-03-3...|  1| 49|0.0204081...|1294|  1|7.1654934...|0.1462345...|\n",
      "|07614fa9a...|        2752|2020-03-3...|  1| 49|0.0204081...|1294|  1|7.1654934...|0.1462345...|\n",
      "|a6e6bc404...|    enviadas|2020-02-1...|  1| 38|0.0263157...|1294|  5|5.5560555...|0.1462119...|\n",
      "|1c6c1cd78...|  empresario|2020-03-1...|  2| 61|0.0327868...|1294| 15|4.4574432...|0.1461456...|\n",
      "|787023d4e...| defunciones|2020-04-1...| 34|470|0.0723404...|1294|175|2.0007075...|0.1447320...|\n",
      "|c6d2ad8e4...|       radar|2020-05-1...|  9|361|0.0249307...|1294|  4|5.7791991...|0.1440797...|\n",
      "|e3787ae6a...|   grafitean|2020-02-0...|  1| 50|        0.02|1294|  1|7.1654934...|0.1433098...|\n",
      "|e3787ae6a...|    andersen|2020-02-0...|  1| 50|        0.02|1294|  1|7.1654934...|0.1433098...|\n",
      "|e3787ae6a...|       sarah|2020-02-0...|  1| 50|        0.02|1294|  1|7.1654934...|0.1433098...|\n",
      "|af88e97bd...|     plácido|2020-03-2...|  3|150|        0.02|1294|  1|7.1654934...|0.1433098...|\n",
      "|e3787ae6a...|       mural|2020-02-0...|  1| 50|        0.02|1294|  1|7.1654934...|0.1433098...|\n",
      "|f469f7377...|   sacristán|2020-03-1...|  5|188|0.0265957...|1294|  6|5.3737340...|0.1429184...|\n",
      "|b3e472ac3...|       fayad|2020-03-2...|  6|194|0.0309278...|1294| 13|4.6005441...|0.1422848...|\n",
      "|b9ae71aef...|feminicidios|2020-04-2...|  5|214|0.0233644...|1294|  3|6.0668811...|0.1417495...|\n",
      "|32eebe602...|   negativos|2020-05-1...| 32|551|0.0580762...|1294|116|2.4119032...|0.1400742...|\n",
      "|24278991b...|      ilegal|2020-01-1...|  2| 71|0.0281690...|1294|  9|4.9682688...|0.1399512...|\n",
      "|4a784f7bf...|   negativos|2020-05-1...| 32|553|0.0578661...|1294|116|2.4119032...|0.1395676...|\n",
      "|a90a0c3dc...|   plásticos|2020-01-0...|  8|332|0.0240963...|1294|  4|5.7791991...|0.1392578...|\n",
      "|d4dbe93e6...|     estatal|2020-03-2...| 32|611|0.0523731...|1294| 91|2.6546339...|0.1390315...|\n",
      "|b9d08854a...|  hondureños|2020-01-1...| 11|413|0.0266343...|1294|  7|5.2195833...|0.1390203...|\n",
      "+------------+------------+------------+---+---+------------+----+---+------------+------------+\n",
      "only showing top 150 rows\n",
      "\n"
     ]
    }
   ],
   "source": [
    "article_tfidf.orderBy('tf_idf', ascending=False).show(150,truncate=12)"
   ]
  },
  {
   "cell_type": "code",
   "execution_count": 21,
   "metadata": {},
   "outputs": [],
   "source": [
    "w = Window.partitionBy('article_id').orderBy(col('tf_idf').desc())\n",
    "\n",
    "article_tfidf_top_15=article_tfidf.withColumn('rank', rank().over(w))\\\n",
    "    .where('rank <= 15')\\\n",
    "    .drop('rank')\\\n",
    "    .orderBy('article_id', 'tf_idf','n_w')\\\n",
    "    .select('article_id','publish_date','palabra','n_w','tf_idf')"
   ]
  },
  {
   "cell_type": "code",
   "execution_count": 22,
   "metadata": {},
   "outputs": [
    {
     "name": "stdout",
     "output_type": "stream",
     "text": [
      "+------------+------------+------------+---+------------+\n",
      "|  article_id|publish_date|     palabra|n_w|      tf_idf|\n",
      "+------------+------------+------------+---+------------+\n",
      "|0000210f7...|2020-02-0...|      zuñiga|  2|0.0335354...|\n",
      "|0000210f7...|2020-02-0...|  campamento|  2|0.0335354...|\n",
      "|0000210f7...|2020-02-0...|     managua|  2|0.0371269...|\n",
      "|0000210f7...|2020-02-0...| selecciones|  2|0.0371269...|\n",
      "|0000210f7...|2020-02-0...|     acevedo|  2|0.0371269...|\n",
      "|0000210f7...|2020-02-0...|     octavos|  2|0.0371269...|\n",
      "|0000210f7...|2020-02-0...|     academy|  2|0.0371269...|\n",
      "|0000210f7...|2020-02-0...|       tyron|  2|0.0371269...|\n",
      "|0000210f7...|2020-02-0...|     jicaral|  2|0.0371269...|\n",
      "|0000210f7...|2020-02-0...|       sub17|  2|0.0371269...|\n",
      "|0000210f7...|2020-02-0...|     fenifut|  2|0.0371269...|\n",
      "|0000210f7...|2020-02-0...|       costa|  4|0.0422222...|\n",
      "|0000210f7...|2020-02-0...|        rica|  4|0.0448940...|\n",
      "|0000210f7...|2020-02-0...|       sub20|  3|0.0471519...|\n",
      "|0000210f7...|2020-02-0...|          fc|  4|0.0742538...|\n",
      "|0040d8131...|2020-04-2...|hospitali...|  2|0.0183505...|\n",
      "|0040d8131...|2020-04-2...|         712|  2|0.0191926...|\n",
      "|0040d8131...|2020-04-2...|  disciplina|  2|0.0191926...|\n",
      "|0040d8131...|2020-04-2...|     jornada|  4|0.0192480...|\n",
      "|0040d8131...|2020-04-2...|     declara|  2|0.0196965...|\n",
      "|0040d8131...|2020-04-2...|        fase|  5|0.0197199...|\n",
      "|0040d8131...|2020-04-2...|   distancia|  5|0.0197791...|\n",
      "|0040d8131...|2020-04-2...|         772|  2|0.0202782...|\n",
      "|0040d8131...|2020-04-2...|  salubridad|  3|0.0204347...|\n",
      "|0040d8131...|2020-04-2...|    iniciada|  2|0.0209662...|\n",
      "|0040d8131...|2020-04-2...|        sana|  5|0.0209797...|\n",
      "|0040d8131...|2020-04-2...|    interese|  2|0.0228938...|\n",
      "|0040d8131...|2020-04-2...|    extender|  2|0.0228938...|\n",
      "|0040d8131...|2020-04-2...|       fase3|  2|0.0270395...|\n",
      "|0040d8131...|2020-04-2...|       avaló|  2|0.0270395...|\n",
      "+------------+------------+------------+---+------------+\n",
      "only showing top 30 rows\n",
      "\n"
     ]
    }
   ],
   "source": [
    "article_tfidf_top_15.show(truncate=12, n=30)"
   ]
  },
  {
   "cell_type": "code",
   "execution_count": 118,
   "metadata": {},
   "outputs": [],
   "source": [
    "article_tfidf_top_15_site = article_tfidf_top_15.join(df_news_covid_mexico_date_text, ['article_id','publish_date']).select('article_id','publish_date','site','palabra','n_w','tf_idf','string_date')"
   ]
  },
  {
   "cell_type": "code",
   "execution_count": 119,
   "metadata": {},
   "outputs": [
    {
     "name": "stdout",
     "output_type": "stream",
     "text": [
      "+--------------------+-------------------+-------------------+-----------+---+--------------------+-----------+\n",
      "|          article_id|       publish_date|               site|    palabra|n_w|              tf_idf|string_date|\n",
      "+--------------------+-------------------+-------------------+-----------+---+--------------------+-----------+\n",
      "|0000210f7e639a06c...|2020-02-06 00:00:00|www.laprensa.com.ni| campamento|  2| 0.03353547302850208| 2020-02-06|\n",
      "|0000210f7e639a06c...|2020-02-06 00:00:00|www.laprensa.com.ni|     zuñiga|  2| 0.03353547302850208| 2020-02-06|\n",
      "|0000210f7e639a06c...|2020-02-06 00:00:00|www.laprensa.com.ni|    academy|  2| 0.03712690919720645| 2020-02-06|\n",
      "|0000210f7e639a06c...|2020-02-06 00:00:00|www.laprensa.com.ni|    fenifut|  2| 0.03712690919720645| 2020-02-06|\n",
      "|0000210f7e639a06c...|2020-02-06 00:00:00|www.laprensa.com.ni|    octavos|  2| 0.03712690919720645| 2020-02-06|\n",
      "|0000210f7e639a06c...|2020-02-06 00:00:00|www.laprensa.com.ni|      tyron|  2| 0.03712690919720645| 2020-02-06|\n",
      "|0000210f7e639a06c...|2020-02-06 00:00:00|www.laprensa.com.ni|      sub17|  2| 0.03712690919720645| 2020-02-06|\n",
      "|0000210f7e639a06c...|2020-02-06 00:00:00|www.laprensa.com.ni|    managua|  2| 0.03712690919720645| 2020-02-06|\n",
      "|0000210f7e639a06c...|2020-02-06 00:00:00|www.laprensa.com.ni|    acevedo|  2| 0.03712690919720645| 2020-02-06|\n",
      "|0000210f7e639a06c...|2020-02-06 00:00:00|www.laprensa.com.ni|selecciones|  2| 0.03712690919720645| 2020-02-06|\n",
      "|0000210f7e639a06c...|2020-02-06 00:00:00|www.laprensa.com.ni|    jicaral|  2| 0.03712690919720645| 2020-02-06|\n",
      "|0000210f7e639a06c...|2020-02-06 00:00:00|www.laprensa.com.ni|      costa|  4|0.042222290380337105| 2020-02-06|\n",
      "|0000210f7e639a06c...|2020-02-06 00:00:00|www.laprensa.com.ni|       rica|  4| 0.04489409462180964| 2020-02-06|\n",
      "|0000210f7e639a06c...|2020-02-06 00:00:00|www.laprensa.com.ni|      sub20|  3| 0.04715192631911453| 2020-02-06|\n",
      "|0000210f7e639a06c...|2020-02-06 00:00:00|www.laprensa.com.ni|         fc|  4|  0.0742538183944129| 2020-02-06|\n",
      "+--------------------+-------------------+-------------------+-----------+---+--------------------+-----------+\n",
      "only showing top 15 rows\n",
      "\n"
     ]
    }
   ],
   "source": [
    "article_tfidf_top_15_site.show(15)"
   ]
  },
  {
   "cell_type": "code",
   "execution_count": 120,
   "metadata": {},
   "outputs": [],
   "source": [
    "article_tfidf_top_15_site.write.jdbc(url=url, table=\"tb_news_covid_mexico_palabras_top_tfidf\", mode=mode, properties=properties)"
   ]
  },
  {
   "cell_type": "code",
   "execution_count": null,
   "metadata": {},
   "outputs": [],
   "source": []
  }
 ],
 "metadata": {
  "kernelspec": {
   "display_name": "Python 3",
   "language": "python",
   "name": "python3"
  },
  "language_info": {
   "codemirror_mode": {
    "name": "ipython",
    "version": 3
   },
   "file_extension": ".py",
   "mimetype": "text/x-python",
   "name": "python",
   "nbconvert_exporter": "python",
   "pygments_lexer": "ipython3",
   "version": "3.7.6"
  }
 },
 "nbformat": 4,
 "nbformat_minor": 4
}
