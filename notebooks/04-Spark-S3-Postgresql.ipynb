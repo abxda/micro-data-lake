{
 "cells": [
  {
   "cell_type": "code",
   "execution_count": 189,
   "metadata": {},
   "outputs": [],
   "source": [
    "import pyspark\n",
    "from pyspark import SparkConf, SparkContext\n",
    "from pyspark.sql import SparkSession\n",
    "from pyspark.sql import *\n",
    "from pyspark.sql.types import *\n",
    "from pyspark.sql.functions import udf\n",
    "from pyspark.sql.functions import *\n",
    "from pyspark.sql.window import Window\n",
    "\n",
    "import os\n",
    "import socket\n",
    "import hashlib\n",
    "import string\n",
    "\n",
    "def createMd5(text):\n",
    "    return hashlib.md5(text.encode('utf-8')).hexdigest()\n",
    "md5Udf= udf(lambda z: createMd5(z),StringType())\n",
    "\n",
    "def clean_lower(text):\n",
    "    sentence = text.translate(str.maketrans('', '', '!\"#$%&\\'()*+,./:;<=>?@[\\\\]^`{|}~-_”“«»‘')).lower()\n",
    "    return \" \".join(sentence.split())\n",
    "cleanLowerUdf= udf(lambda z: clean_lower(z),StringType())\n",
    "\n",
    "def get_site_from_url(text):\n",
    "    return text.split(\"/\")[2]\n",
    "getUrl= udf(lambda z: get_site_from_url(z),StringType())\n",
    "\n",
    "os.environ['PYSPARK_SUBMIT_ARGS'] = 'pyspark-shell'"
   ]
  },
  {
   "cell_type": "code",
   "execution_count": 2,
   "metadata": {},
   "outputs": [],
   "source": [
    "minio_ip = socket.gethostbyname('minio')\n",
    "spark = SparkSession \\\n",
    "    .builder \\\n",
    "    .appName(\"Python Spark S3\") \\\n",
    "    .config('spark.hadoop.fs.s3a.endpoint', 'http://'+minio_ip+':9000') \\\n",
    "    .config(\"spark.hadoop.fs.s3a.access.key\", \"changeme1234\") \\\n",
    "    .config(\"spark.hadoop.fs.s3a.secret.key\", \"changeme1234\") \\\n",
    "    .config('spark.hadoop.fs.s3a.path.style.access', 'true') \\\n",
    "    .config('spark.hadoop.fs.s3a.impl', 'org.apache.hadoop.fs.s3a.S3AFileSystem') \\\n",
    "    .getOrCreate()"
   ]
  },
  {
   "cell_type": "code",
   "execution_count": 3,
   "metadata": {},
   "outputs": [],
   "source": [
    "st= StructType([\n",
    "    StructField(\"abstract\", StringType()),\n",
    "    StructField(\"authors\", StringType()),\n",
    "    StructField(\"image\", StringType()),\n",
    "    StructField(\"metadata\", StringType()),\n",
    "    StructField(\"publish_date\", TimestampType()),\n",
    "    StructField(\"text\", StringType()),\n",
    "    StructField(\"title\", StringType()),\n",
    "    StructField(\"url\", StringType()),\n",
    "])"
   ]
  },
  {
   "cell_type": "code",
   "execution_count": 4,
   "metadata": {},
   "outputs": [],
   "source": [
    "df_news_covid_mexico = spark.read.schema(st).option(\"timestampFormat\", \"dd-MM-yyyy\").json(\"s3a://news/covid_mexico/*.json\")"
   ]
  },
  {
   "cell_type": "code",
   "execution_count": 21,
   "metadata": {},
   "outputs": [
    {
     "data": {
      "text/plain": [
       "1086"
      ]
     },
     "execution_count": 21,
     "metadata": {},
     "output_type": "execute_result"
    }
   ],
   "source": [
    "df_news_covid_mexico.count()"
   ]
  },
  {
   "cell_type": "code",
   "execution_count": 6,
   "metadata": {},
   "outputs": [
    {
     "name": "stdout",
     "output_type": "stream",
     "text": [
      "root\n",
      " |-- abstract: string (nullable = true)\n",
      " |-- authors: string (nullable = true)\n",
      " |-- image: string (nullable = true)\n",
      " |-- metadata: string (nullable = true)\n",
      " |-- publish_date: timestamp (nullable = true)\n",
      " |-- text: string (nullable = true)\n",
      " |-- title: string (nullable = true)\n",
      " |-- url: string (nullable = true)\n",
      "\n"
     ]
    }
   ],
   "source": [
    "df_news_covid_mexico.printSchema()"
   ]
  },
  {
   "cell_type": "code",
   "execution_count": 190,
   "metadata": {},
   "outputs": [],
   "source": [
    "df_news_covid_mexico_date_text = df_news_covid_mexico.select(md5Udf(\"url\").alias(\"article_id\"),\"title\",\"url\",\"publish_date\",cleanLowerUdf(\"text\").alias(\"clean_text\"),getUrl(\"url\").alias(\"site\")).filter(\"length(text) >= 2\")"
   ]
  },
  {
   "cell_type": "code",
   "execution_count": 202,
   "metadata": {},
   "outputs": [
    {
     "name": "stdout",
     "output_type": "stream",
     "text": [
      "+--------------------+--------------------+--------------------+-------------------+--------------------+--------------------+\n",
      "|          article_id|               title|                 url|       publish_date|          clean_text|                site|\n",
      "+--------------------+--------------------+--------------------+-------------------+--------------------+--------------------+\n",
      "|b0e8ddae7b3f65a6a...|Aumenta a 16 fall...|http://www.enfoqu...|2020-03-29 00:00:00|el director gener...|www.enfoqueinform...|\n",
      "|4c60ef934b04e2787...|Ya van dos gobern...|https://www.unotv...|2020-03-29 00:00:00|hasta el momento ...|       www.unotv.com|\n",
      "|1a7b0873214d63a17...|López Obrador dic...|https://www.infor...|2020-03-29 00:00:00|el presidente and...|   www.informador.mx|\n",
      "|cdd17bbabcd40bb3b...|Coronavirus en Mé...|https://www.milen...|2020-03-29 00:00:00|fernando damián m...|     www.milenio.com|\n",
      "|cf44530bae9e92f21...|Han muerto 20 per...|https://www.milen...|2020-03-29 00:00:00|milenio digital y...|     www.milenio.com|\n",
      "|c9c584d77c957d446...|Ciudad de México ...|https://www.infor...|2020-03-29 00:00:00|como apoyo a las ...|   www.informador.mx|\n",
      "|f257007be2a485848...|Coronavirus en Mé...|https://www.infob...|2020-03-29 00:00:00|adán augusto lópe...|     www.infobae.com|\n",
      "|a27885386a1058adc...|Mantiene BC 20 ca...|https://www.elimp...|2020-03-28 00:00:00|mexicali hasta el...| www.elimparcial.com|\n",
      "|a1625d0cc6177f2f0...|El gobernador de ...|https://politica....|2020-03-29 00:00:00|de la 1 a la 3 co...|politica.expansio...|\n",
      "|57a5c5c01ccd32c68...|Coronavirus en Mé...|https://www.infob...|2020-03-29 00:00:00|imagen de archivo...|     www.infobae.com|\n",
      "|30d9911177d838db9...|Más de 26 mil con...|https://aristegui...|2020-04-09 00:00:00|lópezgatell indic...|aristeguinoticias...|\n",
      "|0f0e0411cb52e5aa3...|Salud estima que ...|https://politica....|2020-04-08 00:00:00|explicó que media...|politica.expansio...|\n",
      "|0ec7ad4c1602a02aa...|Fases y consejos ...|https://www.union...|2020-04-08 00:00:00|méxico se encuent...| www.unionyucatan.mx|\n",
      "|1dba22a6b4169cee5...|Analizan médicos ...|https://aristegui...|2020-04-08 00:00:00|trabajadores de l...|aristeguinoticias...|\n",
      "|adc78eb51897737e3...|Unos 60 empleados...|https://aristegui...|2020-04-09 00:00:00|uno de ellos está...|aristeguinoticias...|\n",
      "+--------------------+--------------------+--------------------+-------------------+--------------------+--------------------+\n",
      "only showing top 15 rows\n",
      "\n"
     ]
    }
   ],
   "source": [
    "df_news_covid_mexico_date_text.show(15)"
   ]
  },
  {
   "cell_type": "code",
   "execution_count": 145,
   "metadata": {},
   "outputs": [
    {
     "name": "stdout",
     "output_type": "stream",
     "text": [
      "+--------------------------------------------------------------+\n",
      "|title                                                         |\n",
      "+--------------------------------------------------------------+\n",
      "|Aumenta a 16 fallecimientos por COVID-19 en México            |\n",
      "|Ya van dos gobernadores de México contagiados de COVID-19     |\n",
      "|López Obrador dice que se hará prueba de COVID-19 si tiene ...|\n",
      "|Coronavirus en México, noticias del 29 de marzo               |\n",
      "|Han muerto 20 personas por Covid-19 en México; suman 993 ...  |\n",
      "|Ciudad de México arma kits para casos de COVID-19             |\n",
      "|Coronavirus en México: Adán Augusto López, gobernador de ...  |\n",
      "|Mantiene BC 20 casos de Covid-19 confirmados                  |\n",
      "|El gobernador de Coahuila reporta 16 médicos y enfermeras ... |\n",
      "|Coronavirus en México: fueron aislados tres policías de la ...|\n",
      "|Más de 26 mil contagiados con Covid-19 en México, estima ...  |\n",
      "|Salud estima que hay 26519 casos de COVID-19 en México        |\n",
      "|Fases y consejos sobre el coronavirus en México | Covid-19    |\n",
      "|Analizan médicos cubanos crisis por Covid-19 en México        |\n",
      "|Unos 60 empleados de dos hospitales públicos en México ...    |\n",
      "+--------------------------------------------------------------+\n",
      "only showing top 15 rows\n",
      "\n"
     ]
    }
   ],
   "source": [
    "df_news_covid_mexico_date_text.select(\"title\").show(15,False)"
   ]
  },
  {
   "cell_type": "code",
   "execution_count": 201,
   "metadata": {},
   "outputs": [
    {
     "data": {
      "text/plain": [
       "851"
      ]
     },
     "execution_count": 201,
     "metadata": {},
     "output_type": "execute_result"
    }
   ],
   "source": [
    "df_news_covid_mexico_date_text.count()"
   ]
  },
  {
   "cell_type": "code",
   "execution_count": 131,
   "metadata": {},
   "outputs": [],
   "source": [
    "url = \"jdbc:postgresql://postgres/shared\"\n",
    "mode=\"overwrite\"\n",
    "properties = {\n",
    "    \"user\": \"shared\",\n",
    "    \"password\": os.environ['SHARED_PASSWORD']\n",
    "}"
   ]
  },
  {
   "cell_type": "code",
   "execution_count": 203,
   "metadata": {},
   "outputs": [],
   "source": [
    "df_news_covid_mexico_date_text.write.jdbc(url=url, table=\"tb_news_covid_mexico_date_text\", mode=mode, properties=properties)"
   ]
  },
  {
   "cell_type": "code",
   "execution_count": 170,
   "metadata": {},
   "outputs": [],
   "source": [
    "df_news_covid_mexico_palabras = df_news_covid_mexico_date_text.select(\"article_id\",\"publish_date\",explode(split(df_news_covid_mexico_date_text.clean_text, \"\\s\")).alias(\"palabra\")).where(length('palabra') > 1)"
   ]
  },
  {
   "cell_type": "code",
   "execution_count": 171,
   "metadata": {},
   "outputs": [
    {
     "name": "stdout",
     "output_type": "stream",
     "text": [
      "+--------------------+-------------------+-------------+\n",
      "|          article_id|       publish_date|      palabra|\n",
      "+--------------------+-------------------+-------------+\n",
      "|b0e8ddae7b3f65a6a...|2020-03-29 00:00:00|           el|\n",
      "|b0e8ddae7b3f65a6a...|2020-03-29 00:00:00|     director|\n",
      "|b0e8ddae7b3f65a6a...|2020-03-29 00:00:00|      general|\n",
      "|b0e8ddae7b3f65a6a...|2020-03-29 00:00:00|           de|\n",
      "|b0e8ddae7b3f65a6a...|2020-03-29 00:00:00|epidemiología|\n",
      "|b0e8ddae7b3f65a6a...|2020-03-29 00:00:00|         josé|\n",
      "|b0e8ddae7b3f65a6a...|2020-03-29 00:00:00|         luis|\n",
      "|b0e8ddae7b3f65a6a...|2020-03-29 00:00:00|       alomía|\n",
      "|b0e8ddae7b3f65a6a...|2020-03-29 00:00:00|      zegarra|\n",
      "|b0e8ddae7b3f65a6a...|2020-03-29 00:00:00|      informó|\n",
      "|b0e8ddae7b3f65a6a...|2020-03-29 00:00:00|          que|\n",
      "|b0e8ddae7b3f65a6a...|2020-03-29 00:00:00|           la|\n",
      "|b0e8ddae7b3f65a6a...|2020-03-29 00:00:00|        cifra|\n",
      "|b0e8ddae7b3f65a6a...|2020-03-29 00:00:00|           de|\n",
      "|b0e8ddae7b3f65a6a...|2020-03-29 00:00:00|      muertes|\n",
      "|b0e8ddae7b3f65a6a...|2020-03-29 00:00:00|          por|\n",
      "|b0e8ddae7b3f65a6a...|2020-03-29 00:00:00|      covid19|\n",
      "|b0e8ddae7b3f65a6a...|2020-03-29 00:00:00|           en|\n",
      "|b0e8ddae7b3f65a6a...|2020-03-29 00:00:00|       méxico|\n",
      "|b0e8ddae7b3f65a6a...|2020-03-29 00:00:00|           se|\n",
      "|b0e8ddae7b3f65a6a...|2020-03-29 00:00:00|        elevó|\n",
      "|b0e8ddae7b3f65a6a...|2020-03-29 00:00:00|            a|\n",
      "|b0e8ddae7b3f65a6a...|2020-03-29 00:00:00|           16|\n",
      "|b0e8ddae7b3f65a6a...|2020-03-29 00:00:00|         tras|\n",
      "|b0e8ddae7b3f65a6a...|2020-03-29 00:00:00|    confirmar|\n",
      "|b0e8ddae7b3f65a6a...|2020-03-29 00:00:00|       cuatro|\n",
      "|b0e8ddae7b3f65a6a...|2020-03-29 00:00:00|       nuevos|\n",
      "|b0e8ddae7b3f65a6a...|2020-03-29 00:00:00|      decesos|\n",
      "|b0e8ddae7b3f65a6a...|2020-03-29 00:00:00|         este|\n",
      "|b0e8ddae7b3f65a6a...|2020-03-29 00:00:00|       sábado|\n",
      "+--------------------+-------------------+-------------+\n",
      "only showing top 30 rows\n",
      "\n"
     ]
    }
   ],
   "source": [
    "df_news_covid_mexico_palabras.show(30)"
   ]
  },
  {
   "cell_type": "code",
   "execution_count": 172,
   "metadata": {},
   "outputs": [
    {
     "name": "stdout",
     "output_type": "stream",
     "text": [
      "+--------------------+-------+-------------------+-----+\n",
      "|          article_id|palabra|       publish_date|count|\n",
      "+--------------------+-------+-------------------+-----+\n",
      "|cdd17bbabcd40bb3b...|     de|2020-03-29 00:00:00|  331|\n",
      "|cdd17bbabcd40bb3b...|       |2020-03-29 00:00:00|  331|\n",
      "|2b7a3fb53b9905a69...|     de|2020-03-14 00:00:00|  278|\n",
      "|8d6050c8ce801550d...|     de|2020-03-28 00:00:00|  238|\n",
      "|63113c50ad7d9bba9...|     de|2020-04-05 00:00:00|  235|\n",
      "|cedc44bfb6180a9ac...|     de|2020-04-26 00:00:00|  229|\n",
      "|30d9911177d838db9...|     de|2020-04-09 00:00:00|  224|\n",
      "|30d9911177d838db9...|    que|2020-04-09 00:00:00|  200|\n",
      "|8d6050c8ce801550d...|       |2020-03-28 00:00:00|  182|\n",
      "|cdd17bbabcd40bb3b...|     la|2020-03-29 00:00:00|  182|\n",
      "|fc9909b4476318e19...|     de|2020-03-31 00:00:00|  180|\n",
      "|2b7a3fb53b9905a69...|       |2020-03-14 00:00:00|  175|\n",
      "|cdd17bbabcd40bb3b...|     en|2020-03-29 00:00:00|  155|\n",
      "|b936e66ab964cd3c4...|     de|2020-01-05 00:00:00|  151|\n",
      "|97fb634e001c433a0...|     de|2020-04-25 00:00:00|  149|\n",
      "|30d9911177d838db9...|     la|2020-04-09 00:00:00|  143|\n",
      "|787023d4e99df1c62...|       |2020-04-19 00:00:00|  141|\n",
      "|30d9911177d838db9...|     en|2020-04-09 00:00:00|  139|\n",
      "|e102e66d246d4efc5...|     de|2020-03-20 00:00:00|  126|\n",
      "|793f2513c14af8453...|     de|2020-03-03 00:00:00|  125|\n",
      "|63113c50ad7d9bba9...|     el|2020-04-05 00:00:00|  121|\n",
      "|5498cf9072e7e91fa...|       |2020-04-29 00:00:00|  120|\n",
      "|cedc44bfb6180a9ac...|       |2020-04-26 00:00:00|  120|\n",
      "|8d6050c8ce801550d...|     la|2020-03-28 00:00:00|  120|\n",
      "|8d6050c8ce801550d...|     en|2020-03-28 00:00:00|  119|\n",
      "+--------------------+-------+-------------------+-----+\n",
      "only showing top 25 rows\n",
      "\n"
     ]
    }
   ],
   "source": [
    "#https://sigdelta.com/blog/word-count-in-spark-with-a-pinch-of-tf-idf/\n",
    "df_news_covid_mexico_palabras.groupBy('article_id', 'palabra','publish_date')\\\n",
    "    .count()\\\n",
    "    .orderBy('count', ascending=False)\\\n",
    "    .show(25)"
   ]
  },
  {
   "cell_type": "code",
   "execution_count": 180,
   "metadata": {},
   "outputs": [
    {
     "name": "stdout",
     "output_type": "stream",
     "text": [
      "+---------------+-------+---------------+---+----+---------------+\n",
      "|     article_id|palabra|   publish_date|n_w| n_d|             tf|\n",
      "+---------------+-------+---------------+---+----+---------------+\n",
      "|cdd17bbabcd4...|     de|2020-03-29 0...|331|4646|0.0712440809...|\n",
      "|cdd17bbabcd4...|       |2020-03-29 0...|331|4646|0.0712440809...|\n",
      "|2b7a3fb53b99...|     de|2020-03-14 0...|278|3206|0.0867124142...|\n",
      "|8d6050c8ce80...|     de|2020-03-28 0...|238|3243|0.0733888374...|\n",
      "|63113c50ad7d...|     de|2020-04-05 0...|235|3176|0.0739924433...|\n",
      "|cedc44bfb618...|     de|2020-04-26 0...|229|3105|0.0737520128...|\n",
      "|30d9911177d8...|     de|2020-04-09 0...|224|4172|0.0536912751...|\n",
      "|30d9911177d8...|    que|2020-04-09 0...|200|4172|0.0479386385...|\n",
      "|8d6050c8ce80...|       |2020-03-28 0...|182|3243|0.0561208757...|\n",
      "|cdd17bbabcd4...|     la|2020-03-29 0...|182|4646|0.0391734825...|\n",
      "|fc9909b44763...|     de|2020-03-31 0...|180|2506|0.0718276137...|\n",
      "|2b7a3fb53b99...|       |2020-03-14 0...|175|3206|0.0545851528...|\n",
      "|cdd17bbabcd4...|     en|2020-03-29 0...|155|4646|0.0333620318...|\n",
      "|b936e66ab964...|     de|2020-01-05 0...|151|1928|0.0783195020...|\n",
      "|97fb634e001c...|     de|2020-04-25 0...|149|1981|0.0752145381...|\n",
      "|30d9911177d8...|     la|2020-04-09 0...|143|4172|0.0342761265...|\n",
      "|787023d4e99d...|       |2020-04-19 0...|141| 636|0.2216981132...|\n",
      "|30d9911177d8...|     en|2020-04-09 0...|139|4172|0.0333173537...|\n",
      "|e102e66d246d...|     de|2020-03-20 0...|126|1568|0.0803571428...|\n",
      "|793f2513c14a...|     de|2020-03-03 0...|125|1610|0.0776397515...|\n",
      "+---------------+-------+---------------+---+----+---------------+\n",
      "only showing top 20 rows\n",
      "\n"
     ]
    }
   ],
   "source": [
    "#https://sigdelta.com/blog/word-count-in-spark-with-a-pinch-of-tf-idf-continued/\n",
    "w = Window.partitionBy(df_news_covid_mexico_palabras['article_id'])\n",
    "\n",
    "article_tf = df_news_covid_mexico_palabras.groupBy('article_id', 'palabra', 'publish_date')\\\n",
    "    .agg(count('*').alias('n_w'),sum(count('*')).over(w).alias('n_d'),(count('*')/sum(count('*')).over(w)).alias('tf'))\\\n",
    "    .orderBy('n_w', ascending=False)\\\n",
    "    .cache()\n",
    "\n",
    "article_tf.show(truncate=15)"
   ]
  },
  {
   "cell_type": "code",
   "execution_count": 181,
   "metadata": {},
   "outputs": [],
   "source": [
    "w = Window.partitionBy('palabra')\n",
    "\n",
    "c_d = df_news_covid_mexico_palabras.select('article_id').distinct().count()\n",
    "\n",
    "article_idf = df_news_covid_mexico_palabras.groupBy('palabra', 'article_id','publish_date').agg(\n",
    "        lit(c_d).alias('c_d'),\n",
    "        count('*').over(w).alias('i_d'),\n",
    "        log(lit(c_d)/count('*').over(w)).alias('idf')\n",
    "    )\\\n",
    "    .orderBy('idf', ascending=False)\\\n",
    "    .cache()"
   ]
  },
  {
   "cell_type": "code",
   "execution_count": 182,
   "metadata": {},
   "outputs": [
    {
     "name": "stdout",
     "output_type": "stream",
     "text": [
      "+---------------+---------------+---------------+---+---+---------------+\n",
      "|        palabra|     article_id|   publish_date|c_d|i_d|            idf|\n",
      "+---------------+---------------+---------------+---+---+---------------+\n",
      "|           201’|038da904a144...|2020-01-11 0...|851|  1|6.7464121285...|\n",
      "|           2136|370853b8e0eb...|2020-01-21 0...|851|  1|6.7464121285...|\n",
      "|           2162|70ffaf20effa...|2020-01-02 0...|851|  1|6.7464121285...|\n",
      "|            467|722156625331...|2020-02-17 0...|851|  1|6.7464121285...|\n",
      "|           4821|a78b641ef212...|2020-02-06 0...|851|  1|6.7464121285...|\n",
      "|            829|5b7ffe70c01c...|2020-03-26 0...|851|  1|6.7464121285...|\n",
      "|          alto”|598a349ddc37...|2020-02-14 0...|851|  1|6.7464121285...|\n",
      "|     anunciando|6a0f15ef9478...|2020-03-24 0...|851|  1|6.7464121285...|\n",
      "|     arbitrajes|a760a8f1cf3b...|2020-01-19 0...|851|  1|6.7464121285...|\n",
      "|     asistiendo|722156625331...|2020-02-17 0...|851|  1|6.7464121285...|\n",
      "|         brands|2371f5980a3f...|2020-03-27 0...|851|  1|6.7464121285...|\n",
      "|calderónbarbosa|ed02c5f3f548...|2020-03-27 0...|851|  1|6.7464121285...|\n",
      "|         cariño|af88e97bd2bc...|2020-03-27 0...|851|  1|6.7464121285...|\n",
      "|         carpha|b5a1e411258b...|2020-02-18 0...|851|  1|6.7464121285...|\n",
      "|       cautious|617783c8693f...|2020-02-10 0...|851|  1|6.7464121285...|\n",
      "|   coincidiendo|0e7f620e7354...|2020-01-09 0...|851|  1|6.7464121285...|\n",
      "|   confundirnos|ea5c43e6ca21...|2020-02-04 0...|851|  1|6.7464121285...|\n",
      "|   contraatacar|768dc74c526a...|2020-04-13 0...|851|  1|6.7464121285...|\n",
      "|  contribuyente|0e4daf95790b...|2020-03-20 0...|851|  1|6.7464121285...|\n",
      "|coyunturalmente|4c361d9e30b1...|2020-02-11 0...|851|  1|6.7464121285...|\n",
      "|    debilidades|2e26a57a5028...|2020-04-15 0...|851|  1|6.7464121285...|\n",
      "|       deslindó|c5c3fcdc5235...|2020-04-16 0...|851|  1|6.7464121285...|\n",
      "|      desprecia|dadf699a1238...|2020-01-09 0...|851|  1|6.7464121285...|\n",
      "|          dicte|5498cf9072e7...|2020-04-29 0...|851|  1|6.7464121285...|\n",
      "|           didi|4ab1c909d939...|2020-02-10 0...|851|  1|6.7464121285...|\n",
      "|     distancing|617783c8693f...|2020-02-10 0...|851|  1|6.7464121285...|\n",
      "|     distinguen|bf89cd75d229...|2020-03-29 0...|851|  1|6.7464121285...|\n",
      "|         eligen|88914f084d65...|2020-02-21 0...|851|  1|6.7464121285...|\n",
      "|         emtirá|6a0f15ef9478...|2020-03-24 0...|851|  1|6.7464121285...|\n",
      "|      enfundado|7054dec4bc2d...|2020-01-24 0...|851|  1|6.7464121285...|\n",
      "|   especilistas|51a312dfde4c...|2020-04-03 0...|851|  1|6.7464121285...|\n",
      "|   extranjero…»|483cb18b5037...|2020-03-10 0...|851|  1|6.7464121285...|\n",
      "|       fallecía|63113c50ad7d...|2020-04-05 0...|851|  1|6.7464121285...|\n",
      "|    financiaría|fa8abfa07296...|2020-03-07 0...|851|  1|6.7464121285...|\n",
      "|    financiero”|ab71dcd34f37...|2020-01-16 0...|851|  1|6.7464121285...|\n",
      "|        galenos|b2322738cdb4...|2020-04-17 0...|851|  1|6.7464121285...|\n",
      "|          globo|be1404283824...|2020-03-10 0...|851|  1|6.7464121285...|\n",
      "|       haberlos|24f0192923ef...|2020-03-17 0...|851|  1|6.7464121285...|\n",
      "|           hope|d26e91f66a76...|2020-02-06 0...|851|  1|6.7464121285...|\n",
      "|httpstcod3op...|a3001b8e2010...|2020-01-23 0...|851|  1|6.7464121285...|\n",
      "|    importados”|6d95a5f062fb...|2020-03-03 0...|851|  1|6.7464121285...|\n",
      "|      indicator|617783c8693f...|2020-02-10 0...|851|  1|6.7464121285...|\n",
      "|      iniciador|8371aded8c74...|2020-01-04 0...|851|  1|6.7464121285...|\n",
      "|jurisprudencias|4fe8386e08e1...|2020-03-02 0...|851|  1|6.7464121285...|\n",
      "|      lingüista|88914f084d65...|2020-02-21 0...|851|  1|6.7464121285...|\n",
      "|       medicare|fa8abfa07296...|2020-03-07 0...|851|  1|6.7464121285...|\n",
      "|          monte|e1a5c7278bbf...|2020-01-01 0...|851|  1|6.7464121285...|\n",
      "|        nudista|cdd17bbabcd4...|2020-03-29 0...|851|  1|6.7464121285...|\n",
      "|   oportunidad”|bf89cd75d229...|2020-03-29 0...|851|  1|6.7464121285...|\n",
      "|        peleado|feb45187bd79...|2020-01-05 0...|851|  1|6.7464121285...|\n",
      "|          podia|5292556944c5...|2020-01-13 0...|851|  1|6.7464121285...|\n",
      "|       previene|c474be997a3c...|2020-01-02 0...|851|  1|6.7464121285...|\n",
      "|     provocarla|bd9149e0c56f...|2020-02-11 0...|851|  1|6.7464121285...|\n",
      "|     rescatadas|3eb3c5512858...|2020-03-07 0...|851|  1|6.7464121285...|\n",
      "|          risas|1c2744bf54cf...|2020-01-11 0...|851|  1|6.7464121285...|\n",
      "|        serenos|c65f0a694447...|2020-02-27 0...|851|  1|6.7464121285...|\n",
      "|    sociedades”|1b318a061003...|2020-02-13 0...|851|  1|6.7464121285...|\n",
      "|           some|617783c8693f...|2020-02-10 0...|851|  1|6.7464121285...|\n",
      "|          still|d26e91f66a76...|2020-02-06 0...|851|  1|6.7464121285...|\n",
      "|      sustituía|c857d47d1b09...|2020-01-19 0...|851|  1|6.7464121285...|\n",
      "|        tanques|cbac1d6fbf24...|2020-01-01 0...|851|  1|6.7464121285...|\n",
      "|      terremoto|dfd682e6a107...|2020-03-22 0...|851|  1|6.7464121285...|\n",
      "|       turnados|d52772b6c18d...|2020-01-30 0...|851|  1|6.7464121285...|\n",
      "|       variaron|31a7174b1e3b...|2020-04-28 0...|851|  1|6.7464121285...|\n",
      "|       vladimir|acc5864629ef...|2020-03-04 0...|851|  1|6.7464121285...|\n",
      "|        volando|90543c78becb...|2020-04-09 0...|851|  1|6.7464121285...|\n",
      "|     vulnerando|b2322738cdb4...|2020-04-17 0...|851|  1|6.7464121285...|\n",
      "|            wto|c15047acf463...|2020-05-01 0...|851|  1|6.7464121285...|\n",
      "|    «seminarios|af66cb2d2a5f...|2020-03-14 0...|851|  1|6.7464121285...|\n",
      "|            ¿sí|30d9911177d8...|2020-04-09 0...|851|  1|6.7464121285...|\n",
      "|          ‘sana|487ed2fa616f...|2020-03-15 0...|851|  1|6.7464121285...|\n",
      "|          “cabe|0de2b4334eb7...|2020-03-25 0...|851|  1|6.7464121285...|\n",
      "|        “fondos|e8bd2fcffeff...|2020-04-20 0...|851|  1|6.7464121285...|\n",
      "|      “pequeños|f44ebeb83f4f...|2020-04-19 0...|851|  1|6.7464121285...|\n",
      "|          13985|91dfbfcdff31...|2020-04-03 0...|851|  1|6.7464121285...|\n",
      "|           3015|3f991a20fd16...|2020-03-05 0...|851|  1|6.7464121285...|\n",
      "|           3441|f7ee3835e639...|2020-04-09 0...|851|  1|6.7464121285...|\n",
      "|            451|787023d4e99d...|2020-04-19 0...|851|  1|6.7464121285...|\n",
      "|      56seguido|0c01fd0fa695...|2020-03-23 0...|851|  1|6.7464121285...|\n",
      "|           9407|2593f91a6ab1...|2020-04-05 0...|851|  1|6.7464121285...|\n",
      "|            944|a06f43030f03...|2020-02-15 0...|851|  1|6.7464121285...|\n",
      "|        afloja”|616a7189c3f5...|2020-04-01 0...|851|  1|6.7464121285...|\n",
      "|       agilizar|88f7f4f27f67...|2020-04-21 0...|851|  1|6.7464121285...|\n",
      "|    arriesgando|1b318a061003...|2020-02-13 0...|851|  1|6.7464121285...|\n",
      "|          assad|feb45187bd79...|2020-01-05 0...|851|  1|6.7464121285...|\n",
      "|     atravesado|094a5e4f1d5d...|2020-01-19 0...|851|  1|6.7464121285...|\n",
      "|    autocuidado|dfa367fd433b...|2020-03-08 0...|851|  1|6.7464121285...|\n",
      "|          cabal|f45a26c1c6f1...|2020-02-29 0...|851|  1|6.7464121285...|\n",
      "|       calderon|ed02c5f3f548...|2020-03-27 0...|851|  1|6.7464121285...|\n",
      "|       calexico|3d89c9721c53...|2020-01-11 0...|851|  1|6.7464121285...|\n",
      "|      campanas’|101000104f26...|2020-02-14 0...|851|  1|6.7464121285...|\n",
      "|          chila|868ac30fe815...|2020-04-09 0...|851|  1|6.7464121285...|\n",
      "|            col|ea7b8dfb6367...|2020-01-17 0...|851|  1|6.7464121285...|\n",
      "|    comportando|30d9911177d8...|2020-04-09 0...|851|  1|6.7464121285...|\n",
      "|   comprobación|30d9911177d8...|2020-04-09 0...|851|  1|6.7464121285...|\n",
      "|     confundido|201e0b353c8f...|2020-02-07 0...|851|  1|6.7464121285...|\n",
      "|    convirtiera|77cc3613b72b...|2020-04-22 0...|851|  1|6.7464121285...|\n",
      "|         cotiza|65255acd6f2d...|2020-03-09 0...|851|  1|6.7464121285...|\n",
      "|       céntrico|73e98e64519a...|2020-05-01 0...|851|  1|6.7464121285...|\n",
      "|    desatendido|4ab1c909d939...|2020-02-10 0...|851|  1|6.7464121285...|\n",
      "|   desconocemos|f81cbf374dea...|2020-02-29 0...|851|  1|6.7464121285...|\n",
      "|         electo|50645b4bbf59...|2020-01-15 0...|851|  1|6.7464121285...|\n",
      "|          elisa|1c2744bf54cf...|2020-01-11 0...|851|  1|6.7464121285...|\n",
      "|      femeninos|f257007be2a4...|2020-03-29 0...|851|  1|6.7464121285...|\n",
      "|     finalistas|7163c88cf142...|2020-01-10 0...|851|  1|6.7464121285...|\n",
      "|       fluyendo|2371f5980a3f...|2020-03-27 0...|851|  1|6.7464121285...|\n",
      "|       fuéramos|ea5c43e6ca21...|2020-02-04 0...|851|  1|6.7464121285...|\n",
      "|     gobiernito|a92eeab6125f...|2020-04-14 0...|851|  1|6.7464121285...|\n",
      "|        grisham|a7b9e8f747e3...|2020-03-08 0...|851|  1|6.7464121285...|\n",
      "|      imperante|db4e2a12121a...|2020-01-24 0...|851|  1|6.7464121285...|\n",
      "|        influya|175a7713f65e...|2020-03-23 0...|851|  1|6.7464121285...|\n",
      "|    instructivo|a6d575ef3f79...|2020-03-25 0...|851|  1|6.7464121285...|\n",
      "|      litorales|4d55b7d939c0...|2020-01-18 0...|851|  1|6.7464121285...|\n",
      "|macroeconómicos|cff296c169be...|2020-04-17 0...|851|  1|6.7464121285...|\n",
      "|          mafia|f3abb076f3f6...|2020-01-08 0...|851|  1|6.7464121285...|\n",
      "|          malo”|ab29e864d300...|2020-02-26 0...|851|  1|6.7464121285...|\n",
      "|  marianaarceo7|30da7114bfef...|2020-03-18 0...|851|  1|6.7464121285...|\n",
      "|     mensajeros|2e695f8fcf2e...|2020-04-19 0...|851|  1|6.7464121285...|\n",
      "|          nada”|6865457e1f9e...|2020-01-23 0...|851|  1|6.7464121285...|\n",
      "|      ocultaban|8ebb1851c94d...|2020-01-07 0...|851|  1|6.7464121285...|\n",
      "|      operation|d26e91f66a76...|2020-02-06 0...|851|  1|6.7464121285...|\n",
      "|         orinar|6b084647cd40...|2020-01-23 0...|851|  1|6.7464121285...|\n",
      "|        oscilar|fb43d005292a...|2020-01-04 0...|851|  1|6.7464121285...|\n",
      "|        painted|617783c8693f...|2020-02-10 0...|851|  1|6.7464121285...|\n",
      "|      penalizar|be1404283824...|2020-03-10 0...|851|  1|6.7464121285...|\n",
      "|pharmaceuticals|483cb18b5037...|2020-03-10 0...|851|  1|6.7464121285...|\n",
      "|       portaron|304c40628e41...|2020-04-12 0...|851|  1|6.7464121285...|\n",
      "|   predecesores|c15047acf463...|2020-05-01 0...|851|  1|6.7464121285...|\n",
      "|     preguntaba|30d9911177d8...|2020-04-09 0...|851|  1|6.7464121285...|\n",
      "|   presentarían|82a495f32130...|2020-03-12 0...|851|  1|6.7464121285...|\n",
      "|      presionan|fb43d005292a...|2020-01-04 0...|851|  1|6.7464121285...|\n",
      "|   reaccionaron|63113c50ad7d...|2020-04-05 0...|851|  1|6.7464121285...|\n",
      "|       recluido|5ffc03a87718...|2020-01-15 0...|851|  1|6.7464121285...|\n",
      "|      resguardó|b990c84f5850...|2020-01-11 0...|851|  1|6.7464121285...|\n",
      "|        reunida|4b48f804cab1...|2020-04-28 0...|851|  1|6.7464121285...|\n",
      "|            rey|eded4898ee71...|2020-03-26 0...|851|  1|6.7464121285...|\n",
      "|      segobcdmx|b6e68551d99a...|2020-01-29 0...|851|  1|6.7464121285...|\n",
      "|        semanal|cbcf595e4516...|2020-01-26 0...|851|  1|6.7464121285...|\n",
      "|       sentimos|214c4e9b2645...|2020-01-25 0...|851|  1|6.7464121285...|\n",
      "|        serrano|6cfdabe242b8...|2020-01-27 0...|851|  1|6.7464121285...|\n",
      "|          staff|7054dec4bc2d...|2020-01-24 0...|851|  1|6.7464121285...|\n",
      "|       stations|ce2cf980f7a9...|2020-04-03 0...|851|  1|6.7464121285...|\n",
      "|         tambén|1dfd977bb33b...|2020-04-15 0...|851|  1|6.7464121285...|\n",
      "|    trabajando”|63113c50ad7d...|2020-04-05 0...|851|  1|6.7464121285...|\n",
      "|      venderlos|cedc44bfb618...|2020-04-26 0...|851|  1|6.7464121285...|\n",
      "|          vocal|6b7af51f9638...|2020-01-16 0...|851|  1|6.7464121285...|\n",
      "|         ¡donde|6cfdabe242b8...|2020-01-27 0...|851|  1|6.7464121285...|\n",
      "|         «hasta|483cb18b5037...|2020-03-10 0...|851|  1|6.7464121285...|\n",
      "|    “lamentamos|038da904a144...|2020-01-11 0...|851|  1|6.7464121285...|\n",
      "|         “mayo”|fc04395d7a8e...|2020-02-11 0...|851|  1|6.7464121285...|\n",
      "+---------------+---------------+---------------+---+---+---------------+\n",
      "only showing top 150 rows\n",
      "\n"
     ]
    }
   ],
   "source": [
    "article_idf.show(150, truncate=15)"
   ]
  },
  {
   "cell_type": "code",
   "execution_count": 183,
   "metadata": {},
   "outputs": [],
   "source": [
    "article_tfidf = article_tf.join(article_idf, ['article_id', 'palabra', 'publish_date'])\\\n",
    "    .withColumn('tf_idf', col('tf') * col('idf'))\\\n",
    "    .cache()"
   ]
  },
  {
   "cell_type": "code",
   "execution_count": 184,
   "metadata": {},
   "outputs": [
    {
     "name": "stdout",
     "output_type": "stream",
     "text": [
      "+------------+------------+------------+---+---+------------+---+---+------------+------------+\n",
      "|  article_id|     palabra|publish_date|n_w|n_d|          tf|c_d|i_d|         idf|      tf_idf|\n",
      "+------------+------------+------------+---+---+------------+---+---+------------+------------+\n",
      "|8605697c7...|    palenque|2020-02-0...|  1| 12|0.0833333...|851|  1|6.7464121...|0.5622010...|\n",
      "|8605697c7...|       toros|2020-02-0...|  1| 12|0.0833333...|851|  2|6.0532649...|0.5044387...|\n",
      "|8605697c7...|     barbosa|2020-02-0...|  1| 12|0.0833333...|851|  7|4.8005019...|0.4000418...|\n",
      "|8605697c7...|       plaza|2020-02-0...|  1| 12|0.0833333...|851| 10|4.4438270...|0.3703189...|\n",
      "|8605697c7...|     anuncia|2020-02-0...|  1| 12|0.0833333...|851| 11|4.3485168...|0.3623764...|\n",
      "|8605697c7...|construcción|2020-02-0...|  1| 12|0.0833333...|851| 30|3.3452147...|0.2787678...|\n",
      "|fe12cc2e5...|    barriles|2020-01-0...| 10|239|0.0418410...|851|  2|6.0532649...|0.2532746...|\n",
      "|70ffaf20e...|     premium|2020-01-0...| 19|374|0.0508021...|851|  7|4.8005019...|0.2438757...|\n",
      "|70ffaf20e...|      diesel|2020-01-0...| 19|374|0.0508021...|851|  7|4.8005019...|0.2438757...|\n",
      "|4fbd1e060...|     premium|2020-01-2...| 17|341|0.0498533...|851|  7|4.8005019...|0.2393212...|\n",
      "|4fbd1e060...|      diesel|2020-01-2...| 17|341|0.0498533...|851|  7|4.8005019...|0.2393212...|\n",
      "|70ffaf20e...|       magna|2020-01-0...| 19|374|0.0508021...|851|  8|4.6669705...|0.2370920...|\n",
      "|8b7f93b56...|      diesel|2020-01-0...| 15|307|0.0488599...|851|  7|4.8005019...|0.2345522...|\n",
      "|10e0b33a7...|     premium|2020-01-1...| 15|307|0.0488599...|851|  7|4.8005019...|0.2345522...|\n",
      "|85da63d8b...|      diesel|2020-01-1...| 15|307|0.0488599...|851|  7|4.8005019...|0.2345522...|\n",
      "|85da63d8b...|     premium|2020-01-1...| 15|307|0.0488599...|851|  7|4.8005019...|0.2345522...|\n",
      "|8b7f93b56...|     premium|2020-01-0...| 15|307|0.0488599...|851|  7|4.8005019...|0.2345522...|\n",
      "|10e0b33a7...|      diesel|2020-01-1...| 15|307|0.0488599...|851|  7|4.8005019...|0.2345522...|\n",
      "|370853b8e...|      diesel|2020-01-2...| 15|309|0.0485436...|851|  7|4.8005019...|0.2330340...|\n",
      "|370853b8e...|     premium|2020-01-2...| 15|309|0.0485436...|851|  7|4.8005019...|0.2330340...|\n",
      "|4fbd1e060...|       magna|2020-01-2...| 17|341|0.0498533...|851|  8|4.6669705...|0.2326642...|\n",
      "|85da63d8b...|       magna|2020-01-1...| 15|307|0.0488599...|851|  8|4.6669705...|0.2280278...|\n",
      "|10e0b33a7...|       magna|2020-01-1...| 15|307|0.0488599...|851|  8|4.6669705...|0.2280278...|\n",
      "|8b7f93b56...|       magna|2020-01-0...| 15|307|0.0488599...|851|  8|4.6669705...|0.2280278...|\n",
      "|370853b8e...|       magna|2020-01-2...| 15|309|0.0485436...|851|  8|4.6669705...|0.2265519...|\n",
      "|a6e6bc404...|  comentario|2020-02-1...|  2| 46|0.0434782...|851|  5|5.1369742...|0.2233467...|\n",
      "|0d9f4207a...|      toyota|2020-01-1...|  6|187|0.0320855...|851|  1|6.7464121...|0.2164624...|\n",
      "|5ff0fbe78...|extorsion...|2020-02-0...|  3| 94|0.0319148...|851|  1|6.7464121...|0.2153110...|\n",
      "|64c9097ed...|          mx|2020-03-1...| 10|228|0.0438596...|851|  7|4.8005019...|0.2105483...|\n",
      "|617783c86...|         the|2020-02-1...| 33|550|        0.06|851| 26|3.4883155...|0.2092989...|\n",
      "|70ffaf20e...|    gasolina|2020-01-0...| 19|374|0.0508021...|851| 14|4.1073547...|0.2086624...|\n",
      "|4fbd1e060...|    gasolina|2020-01-2...| 17|341|0.0498533...|851| 14|4.1073547...|0.2047654...|\n",
      "|b25669198...|   averiguar|2020-04-2...|  1| 33|0.0303030...|851|  1|6.7464121...|0.2044367...|\n",
      "|b25669198...|   telemundo|2020-04-2...|  1| 33|0.0303030...|851|  1|6.7464121...|0.2044367...|\n",
      "|b25669198...|  verdaderas|2020-04-2...|  1| 33|0.0303030...|851|  1|6.7464121...|0.2044367...|\n",
      "|8b7f93b56...|    gasolina|2020-01-0...| 15|307|0.0488599...|851| 14|4.1073547...|0.2006850...|\n",
      "|10e0b33a7...|    gasolina|2020-01-1...| 15|307|0.0488599...|851| 14|4.1073547...|0.2006850...|\n",
      "|85da63d8b...|    gasolina|2020-01-1...| 15|307|0.0488599...|851| 14|4.1073547...|0.2006850...|\n",
      "|370853b8e...|    gasolina|2020-01-2...| 15|309|0.0485436...|851| 14|4.1073547...|0.1993861...|\n",
      "|d26e91f66...|          to|2020-02-0...| 22|480|0.0458333...|851| 12|4.2615054...|0.1953190...|\n",
      "|2f75bfaed...|        audi|2020-01-1...| 16|465|0.0344086...|851|  3|5.6477998...|0.1943328...|\n",
      "|70c2bcc8e...|       besos|2020-02-1...| 19|546|0.0347985...|851|  4|5.3601177...|0.1865242...|\n",
      "|d94f7e7fc...|     meteoro|2020-01-1...|  3|113|0.0265486...|851|  1|6.7464121...|0.1791082...|\n",
      "|8605697c7...|       nueva|2020-02-0...|  1| 12|0.0833333...|851|100|2.1412419...|0.1784368...|\n",
      "|255fb2440...|     montero|2020-01-0...|  5|190|0.0263157...|851|  1|6.7464121...|0.1775371...|\n",
      "|64c9097ed...|        liga|2020-03-1...|  9|228|0.0394736...|851| 10|4.4438270...|0.1754142...|\n",
      "|70ffaf20e...|      precio|2020-01-0...| 19|374|0.0508021...|851| 27|3.4505752...|0.1752966...|\n",
      "|d26e91f66...|         the|2020-02-0...| 24|480|        0.05|851| 26|3.4883155...|0.1744157...|\n",
      "|4fbd1e060...|      precio|2020-01-2...| 17|341|0.0498533...|851| 27|3.4505752...|0.1720228...|\n",
      "|d5c49c16d...|   depresión|2020-01-1...| 10|329|0.0303951...|851|  3|5.6477998...|0.1716656...|\n",
      "|b25669198...|    calculan|2020-04-2...|  1| 33|0.0303030...|851|  3|5.6477998...|0.1711454...|\n",
      "|2a732dcf5...|        kilo|2020-03-2...| 13|463|0.0280777...|851|  2|6.0532649...|0.1699620...|\n",
      "|8b7f93b56...|      precio|2020-01-0...| 15|307|0.0488599...|851| 27|3.4505752...|0.1685948...|\n",
      "|10e0b33a7...|      precio|2020-01-1...| 15|307|0.0488599...|851| 27|3.4505752...|0.1685948...|\n",
      "|85da63d8b...|      precio|2020-01-1...| 15|307|0.0488599...|851| 27|3.4505752...|0.1685948...|\n",
      "|370853b8e...|      precio|2020-01-2...| 15|309|0.0485436...|851| 27|3.4505752...|0.1675036...|\n",
      "|1c6c1cd78...|      dóriga|2020-03-1...|  2| 68|0.0294117...|851|  3|5.6477998...|0.1661117...|\n",
      "|5e0b759c4...|     pilares|2020-01-1...|  3|105|0.0285714...|851|  3|5.6477998...|0.1613657...|\n",
      "|3b2b9fba0...|    aguacate|2020-01-3...|  6|213|0.0281690...|851|  3|5.6477998...|0.1590929...|\n",
      "|9c1b1bf5c...|      coppel|2020-01-1...|  9|304|0.0296052...|851|  4|5.3601177...|0.1586876...|\n",
      "|b25669198...|  encargados|2020-04-2...|  1| 33|0.0303030...|851|  5|5.1369742...|0.1556658...|\n",
      "|d26e91f66...|        says|2020-02-0...| 11|480|0.0229166...|851|  1|6.7464121...|0.1546052...|\n",
      "|dc327e71b...|  university|2020-02-2...|  6|235|0.0255319...|851|  2|6.0532649...|0.1545514...|\n",
      "|74d46fd8c...|      prieto|2020-01-1...|  2| 79|0.0253164...|851|  2|6.0532649...|0.1532472...|\n",
      "|5ff0fbe78...|   presuntos|2020-02-0...|  3| 94|0.0319148...|851|  7|4.8005019...|0.1532075...|\n",
      "|ff571f627...|      robbie|2020-01-2...|  2| 89|0.0224719...|851|  1|6.7464121...|0.1516047...|\n",
      "|7212fda15...|        2785|2020-04-0...|  4|180|0.0222222...|851|  1|6.7464121...|0.1499202...|\n",
      "|e123e1fc0...|         cfe|2020-04-1...| 10|377|0.0265251...|851|  3|5.6477998...|0.1498090...|\n",
      "|70ffaf20e...|    promedio|2020-01-0...| 18|374|0.0481283...|851| 38|3.1088259...|0.1496226...|\n",
      "|69954be6c...|      lesión|2020-02-1...|  5|205|0.0243902...|851|  2|6.0532649...|0.1476406...|\n",
      "|a6e6bc404...|  vulgaridad|2020-02-1...|  1| 46|0.0217391...|851|  1|6.7464121...|0.1466611...|\n",
      "|a6e6bc404...|aristegui...|2020-02-1...|  1| 46|0.0217391...|851|  1|6.7464121...|0.1466611...|\n",
      "|a6e6bc404...|     escribe|2020-02-1...|  1| 46|0.0217391...|851|  1|6.7464121...|0.1466611...|\n",
      "|a6e6bc404...|  difamación|2020-02-1...|  1| 46|0.0217391...|851|  1|6.7464121...|0.1466611...|\n",
      "|a6e6bc404...|     ofensas|2020-02-1...|  1| 46|0.0217391...|851|  1|6.7464121...|0.1466611...|\n",
      "|4fbd1e060...|    promedio|2020-01-2...| 16|341|0.0469208...|851| 38|3.1088259...|0.1458686...|\n",
      "|21ad0e17e...|       avión|2020-01-0...|  8|188|0.0425531...|851| 28|3.4142076...|0.1452854...|\n",
      "|0d9f4207a...|      tacoma|2020-01-1...|  4|187|0.0213903...|851|  1|6.7464121...|0.1443082...|\n",
      "|24278991b...| arriesgarse|2020-01-1...|  2| 84|0.0238095...|851|  2|6.0532649...|0.1441253...|\n",
      "|9f6faa8e5...|      homero|2020-01-3...|  6|281|0.0213523...|851|  1|6.7464121...|0.1440515...|\n",
      "|7054dec4b...|     diablos|2020-01-2...|  2| 95|0.0210526...|851|  1|6.7464121...|0.1420297...|\n",
      "|85da63d8b...|    promedio|2020-01-1...| 14|307|0.0456026...|851| 38|3.1088259...|0.1417705...|\n",
      "|10e0b33a7...|    promedio|2020-01-1...| 14|307|0.0456026...|851| 38|3.1088259...|0.1417705...|\n",
      "|8b7f93b56...|    promedio|2020-01-0...| 14|307|0.0456026...|851| 38|3.1088259...|0.1417705...|\n",
      "|370853b8e...|    promedio|2020-01-2...| 14|309|0.0453074...|851| 38|3.1088259...|0.1408529...|\n",
      "|98cb1c805...|     crucero|2020-02-2...|  6|199|0.0301507...|851|  8|4.6669705...|0.1407126...|\n",
      "|d4dbe93e6...| laboratorio|2020-03-2...| 33|706|0.0467422...|851| 42|3.0087425...|0.1406352...|\n",
      "|bc1f31d8f...|       mejor|2020-02-0...|  3| 57|0.0526315...|851| 59|2.6688746...|0.1404670...|\n",
      "|617783c86...|          to|2020-02-1...| 18|550|0.0327272...|851| 12|4.2615054...|0.1394674...|\n",
      "|cacd49d0f...|      irving|2020-01-0...| 11|535|0.0205607...|851|  1|6.7464121...|0.1387112...|\n",
      "|90313cf9e...|     banorte|2020-01-1...|  6|264|0.0227272...|851|  2|6.0532649...|0.1375742...|\n",
      "|3c69b2e4c...|        peso|2020-01-1...|  5|123|0.0406504...|851| 29|3.3791162...|0.1373624...|\n",
      "|a545eb813...|       camas|2020-04-2...|  6|137|0.0437956...|851| 37|3.1354942...|0.1373209...|\n",
      "|8905f628d...|      caseta|2020-01-0...|  2| 99|0.0202020...|851|  1|6.7464121...|0.1362911...|\n",
      "|a2e1190b9...|        fury|2020-02-2...|  5|249|0.0200803...|851|  1|6.7464121...|0.1354701...|\n",
      "|617783c86...|   emissions|2020-02-1...| 11|550|        0.02|851|  1|6.7464121...|0.1349282...|\n",
      "|24278991b...|         eua|2020-01-1...|  2| 84|0.0238095...|851|  3|5.6477998...|0.1344714...|\n",
      "|a811c9701...|     obispos|2020-01-2...|  4|169|0.0236686...|851|  3|5.6477998...|0.1336757...|\n",
      "|bd009bbc2...|  militantes|2020-01-0...|  6|272|0.0220588...|851|  2|6.0532649...|0.1335279...|\n",
      "|b74a4f535...|      órbita|2020-02-1...|  4|205|0.0195121...|851|  1|6.7464121...|0.1316373...|\n",
      "|69954be6c...|     verdugo|2020-02-1...|  4|205|0.0195121...|851|  1|6.7464121...|0.1316373...|\n",
      "|a6e6bc404...|  publicadas|2020-02-1...|  1| 46|0.0217391...|851|  2|6.0532649...|0.1315927...|\n",
      "|a6e6bc404...|   invitamos|2020-02-1...|  1| 46|0.0217391...|851|  2|6.0532649...|0.1315927...|\n",
      "|a6e6bc404...|    removido|2020-02-1...|  1| 46|0.0217391...|851|  2|6.0532649...|0.1315927...|\n",
      "|787023d4e...| defunciones|2020-04-1...| 34|636|0.0534591...|851| 73|2.4559526...|0.1312930...|\n",
      "|d4dbe93e6...|     estatal|2020-03-2...| 32|706|0.0453257...|851| 47|2.8962645...|0.1312754...|\n",
      "|07614fa9a...|        1094|2020-03-3...|  1| 52|0.0192307...|851|  1|6.7464121...|0.1297386...|\n",
      "|fea046875...|         252|2020-02-2...|  1| 52|0.0192307...|851|  1|6.7464121...|0.1297386...|\n",
      "|07614fa9a...|        5635|2020-03-3...|  1| 52|0.0192307...|851|  1|6.7464121...|0.1297386...|\n",
      "|07614fa9a...|        2752|2020-03-3...|  1| 52|0.0192307...|851|  1|6.7464121...|0.1297386...|\n",
      "|7b502726e...| alejandrina|2020-02-0...|  9|423|0.0212765...|851|  2|6.0532649...|0.1287928...|\n",
      "|a90a0c3dc...|   plásticos|2020-01-0...|  8|353|0.0226628...|851|  3|5.6477998...|0.1279954...|\n",
      "|90313cf9e...|    sinosure|2020-01-1...|  5|264|0.0189393...|851|  1|6.7464121...|0.1277729...|\n",
      "|cae430dd0...|      perros|2020-01-0...|  4|169|0.0236686...|851|  4|5.3601177...|0.1268666...|\n",
      "|b25669198...|   responder|2020-04-2...|  1| 33|0.0303030...|851| 13|4.1814627...|0.1267109...|\n",
      "|d26e91f66...|         and|2020-02-0...| 13|480|0.0270833...|851|  8|4.6669705...|0.1263971...|\n",
      "|e880b0acf...| extradición|2020-01-1...|  4|170|0.0235294...|851|  4|5.3601177...|0.1261204...|\n",
      "|d59a4a335...|         pan|2020-01-1...|  7|249|0.0281124...|851| 10|4.4438270...|0.1249268...|\n",
      "|2fb4cb177...|          av|2020-01-1...|  6|325|0.0184615...|851|  1|6.7464121...|0.1245491...|\n",
      "|fe12cc2e5...|     diarios|2020-01-0...|  6|239|0.0251046...|851|  6|4.9546526...|0.1243845...|\n",
      "|787023d4e...|   negativos|2020-04-1...| 32|636|0.0503144...|851| 72|2.4697460...|0.1242639...|\n",
      "|107fd58bd...| anticuerpos|2020-04-2...|  7|342|0.0204678...|851|  2|6.0532649...|0.1238972...|\n",
      "|a545eb813...|    ocupadas|2020-04-2...|  3|137|0.0218978...|851|  3|5.6477998...|0.1236744...|\n",
      "|8feb917b9...|       sopot|2020-01-0...|  3|164|0.0182926...|851|  1|6.7464121...|0.1234099...|\n",
      "|fa8e8f4e6...|      cruces|2020-03-1...|  2| 76|0.0263157...|851|  8|4.6669705...|0.1228150...|\n",
      "|a6e6bc404...|    enviadas|2020-02-1...|  1| 46|0.0217391...|851|  3|5.6477998...|0.1227782...|\n",
      "|e3787ae6a...|       mural|2020-02-0...|  1| 55|0.0181818...|851|  1|6.7464121...|0.1226620...|\n",
      "|e3787ae6a...|    andersen|2020-02-0...|  1| 55|0.0181818...|851|  1|6.7464121...|0.1226620...|\n",
      "|e3787ae6a...|   grafitean|2020-02-0...|  1| 55|0.0181818...|851|  1|6.7464121...|0.1226620...|\n",
      "|cca7382d2...|portabilidad|2020-03-2...|  1| 55|0.0181818...|851|  1|6.7464121...|0.1226620...|\n",
      "|cca7382d2...|        1463|2020-03-2...|  1| 55|0.0181818...|851|  1|6.7464121...|0.1226620...|\n",
      "|e3787ae6a...|       sarah|2020-02-0...|  1| 55|0.0181818...|851|  1|6.7464121...|0.1226620...|\n",
      "|b3e472ac3...|       fayad|2020-03-2...|  6|213|0.0281690...|851| 11|4.3485168...|0.1224934...|\n",
      "|b9d08854a...|  hondureños|2020-01-1...| 11|451|0.0243902...|851|  6|4.9546526...|0.1208451...|\n",
      "|1c6c1cd78...|  empresario|2020-03-1...|  2| 68|0.0294117...|851| 14|4.1073547...|0.1208045...|\n",
      "|af88e97bd...|     plácido|2020-03-2...|  3|168|0.0178571...|851|  1|6.7464121...|0.1204716...|\n",
      "|6265e75f3...|      camión|2020-01-1...|  3|129|0.0232558...|851|  5|5.1369742...|0.1194645...|\n",
      "|839862ef8...|         mdd|2020-03-0...|  6|270|0.0222222...|851|  4|5.3601177...|0.1191137...|\n",
      "|f469f7377...|   sacristán|2020-03-1...|  5|208|0.0240384...|851|  6|4.9546526...|0.1191022...|\n",
      "|bc1f31d8f...|        land|2020-02-0...|  1| 57|0.0175438...|851|  1|6.7464121...|0.1183581...|\n",
      "|bc1f31d8f...|     glucosa|2020-02-0...|  1| 57|0.0175438...|851|  1|6.7464121...|0.1183581...|\n",
      "|2676bb312...|     linares|2020-01-0...|  8|456|0.0175438...|851|  1|6.7464121...|0.1183581...|\n",
      "|bc1f31d8f...|         ¡se|2020-02-0...|  1| 57|0.0175438...|851|  1|6.7464121...|0.1183581...|\n",
      "|bc1f31d8f...|     samsung|2020-02-0...|  1| 57|0.0175438...|851|  1|6.7464121...|0.1183581...|\n",
      "|66332c3fb...|   extorsión|2020-01-0...|  5|241|0.0207468...|851|  3|5.6477998...|0.1171742...|\n",
      "|c2dc6dd70...|   uhlfelder|2020-04-0...|  1| 46|0.0217391...|851|  4|5.3601177...|0.1165242...|\n",
      "|132439452...|   uhlfelder|2020-04-2...|  1| 46|0.0217391...|851|  4|5.3601177...|0.1165242...|\n",
      "|66c99985e...|   uhlfelder|2020-04-2...|  1| 46|0.0217391...|851|  4|5.3601177...|0.1165242...|\n",
      "|ca5a19be8...|   uhlfelder|2020-01-0...|  1| 46|0.0217391...|851|  4|5.3601177...|0.1165242...|\n",
      "|a6e6bc404...|   opiniones|2020-02-1...|  1| 46|0.0217391...|851|  4|5.3601177...|0.1165242...|\n",
      "+------------+------------+------------+---+---+------------+---+---+------------+------------+\n",
      "only showing top 150 rows\n",
      "\n"
     ]
    }
   ],
   "source": [
    "article_tfidf.orderBy('tf_idf', ascending=False).show(150,truncate=12)"
   ]
  },
  {
   "cell_type": "code",
   "execution_count": 186,
   "metadata": {},
   "outputs": [],
   "source": [
    "w = Window.partitionBy('article_id').orderBy(col('tf_idf').desc())\n",
    "\n",
    "article_tfidf_top_15=article_tfidf.withColumn('rank', rank().over(w))\\\n",
    "    .where('rank <= 15')\\\n",
    "    .drop('rank')\\\n",
    "    .orderBy('article_id', 'tf_idf','n_w')\\\n",
    "    .select('article_id','publish_date','palabra','n_w','tf_idf')"
   ]
  },
  {
   "cell_type": "code",
   "execution_count": 187,
   "metadata": {},
   "outputs": [
    {
     "name": "stdout",
     "output_type": "stream",
     "text": [
      "+------------+------------+------------+---+------------+\n",
      "|  article_id|publish_date|     palabra|n_w|      tf_idf|\n",
      "+------------+------------+------------+---+------------+\n",
      "|0000210f7...|2020-02-0...|  campamento|  2|0.0284859...|\n",
      "|0000210f7...|2020-02-0...|      zuñiga|  2|0.0284859...|\n",
      "|0000210f7...|2020-02-0...|   conjuntos|  2|0.0284859...|\n",
      "|0000210f7...|2020-02-0...|     ascenso|  3|0.0285060...|\n",
      "|0000210f7...|2020-02-0...|     academy|  2|0.0317478...|\n",
      "|0000210f7...|2020-02-0...| selecciones|  2|0.0317478...|\n",
      "|0000210f7...|2020-02-0...|     octavos|  2|0.0317478...|\n",
      "|0000210f7...|2020-02-0...|     fenifut|  2|0.0317478...|\n",
      "|0000210f7...|2020-02-0...|       tyron|  2|0.0317478...|\n",
      "|0000210f7...|2020-02-0...|     jicaral|  2|0.0317478...|\n",
      "|0000210f7...|2020-02-0...|       sub17|  2|0.0317478...|\n",
      "|0000210f7...|2020-02-0...|     managua|  2|0.0317478...|\n",
      "|0000210f7...|2020-02-0...|     acevedo|  2|0.0317478...|\n",
      "|0000210f7...|2020-02-0...|       costa|  4|0.0357832...|\n",
      "|0000210f7...|2020-02-0...|        rica|  4|0.0393549...|\n",
      "|0000210f7...|2020-02-0...|       sub20|  3|0.0476217...|\n",
      "|0000210f7...|2020-02-0...|          fc|  4|0.0634956...|\n",
      "|0040d8131...|2020-04-2...|     declara|  2|0.0168143...|\n",
      "|0040d8131...|2020-04-2...|hospitali...|  2|0.0173543...|\n",
      "|0040d8131...|2020-04-2...|         712|  2|0.0173543...|\n",
      "|0040d8131...|2020-04-2...|  disciplina|  2|0.0173543...|\n",
      "|0040d8131...|2020-04-2...|  salubridad|  3|0.0185334...|\n",
      "|0040d8131...|2020-04-2...|         772|  2|0.0187744...|\n",
      "|0040d8131...|2020-04-2...|        fase|  5|0.0196725...|\n",
      "|0040d8131...|2020-04-2...|    interese|  2|0.0197821...|\n",
      "|0040d8131...|2020-04-2...|    iniciada|  2|0.0197821...|\n",
      "|0040d8131...|2020-04-2...|     jornada|  4|0.0205936...|\n",
      "|0040d8131...|2020-04-2...|   distancia|  5|0.0219991...|\n",
      "|0040d8131...|2020-04-2...|        sana|  5|0.0232230...|\n",
      "|0040d8131...|2020-04-2...|       fase3|  2|0.0236301...|\n",
      "+------------+------------+------------+---+------------+\n",
      "only showing top 30 rows\n",
      "\n"
     ]
    }
   ],
   "source": [
    "article_tfidf_top_15.show(truncate=12, n=30)"
   ]
  },
  {
   "cell_type": "code",
   "execution_count": 198,
   "metadata": {},
   "outputs": [],
   "source": [
    "article_tfidf_top_15_site = article_tfidf_top_15.join(df_news_covid_mexico_date_text, ['article_id','publish_date']).select('article_id','publish_date','site','palabra','n_w','tf_idf')"
   ]
  },
  {
   "cell_type": "code",
   "execution_count": 199,
   "metadata": {},
   "outputs": [
    {
     "name": "stdout",
     "output_type": "stream",
     "text": [
      "+--------------------+-------------------+-------------------+-----------+---+-------------------+\n",
      "|          article_id|       publish_date|               site|    palabra|n_w|             tf_idf|\n",
      "+--------------------+-------------------+-------------------+-----------+---+-------------------+\n",
      "|0000210f7e639a06c...|2020-02-06 00:00:00|www.laprensa.com.ni| campamento|  2|0.02848595269653378|\n",
      "|0000210f7e639a06c...|2020-02-06 00:00:00|www.laprensa.com.ni|  conjuntos|  2|0.02848595269653378|\n",
      "|0000210f7e639a06c...|2020-02-06 00:00:00|www.laprensa.com.ni|     zuñiga|  2|0.02848595269653378|\n",
      "|0000210f7e639a06c...|2020-02-06 00:00:00|www.laprensa.com.ni|    ascenso|  3| 0.0285060841939141|\n",
      "|0000210f7e639a06c...|2020-02-06 00:00:00|www.laprensa.com.ni|    academy|  2|0.03174782178152176|\n",
      "|0000210f7e639a06c...|2020-02-06 00:00:00|www.laprensa.com.ni|    fenifut|  2|0.03174782178152176|\n",
      "|0000210f7e639a06c...|2020-02-06 00:00:00|www.laprensa.com.ni|    octavos|  2|0.03174782178152176|\n",
      "|0000210f7e639a06c...|2020-02-06 00:00:00|www.laprensa.com.ni|      tyron|  2|0.03174782178152176|\n",
      "|0000210f7e639a06c...|2020-02-06 00:00:00|www.laprensa.com.ni|      sub17|  2|0.03174782178152176|\n",
      "|0000210f7e639a06c...|2020-02-06 00:00:00|www.laprensa.com.ni|    managua|  2|0.03174782178152176|\n",
      "|0000210f7e639a06c...|2020-02-06 00:00:00|www.laprensa.com.ni|    acevedo|  2|0.03174782178152176|\n",
      "|0000210f7e639a06c...|2020-02-06 00:00:00|www.laprensa.com.ni|selecciones|  2|0.03174782178152176|\n",
      "|0000210f7e639a06c...|2020-02-06 00:00:00|www.laprensa.com.ni|    jicaral|  2|0.03174782178152176|\n",
      "|0000210f7e639a06c...|2020-02-06 00:00:00|www.laprensa.com.ni|      costa|  4|0.03578327670030055|\n",
      "|0000210f7e639a06c...|2020-02-06 00:00:00|www.laprensa.com.ni|       rica|  4|0.03935494372811141|\n",
      "+--------------------+-------------------+-------------------+-----------+---+-------------------+\n",
      "only showing top 15 rows\n",
      "\n"
     ]
    }
   ],
   "source": [
    "article_tfidf_top_15_site.show(15)"
   ]
  },
  {
   "cell_type": "code",
   "execution_count": 200,
   "metadata": {},
   "outputs": [],
   "source": [
    "article_tfidf_top_15_site.write.jdbc(url=url, table=\"tb_news_covid_mexico_palabras_top_tfidf\", mode=mode, properties=properties)"
   ]
  },
  {
   "cell_type": "code",
   "execution_count": null,
   "metadata": {},
   "outputs": [],
   "source": []
  }
 ],
 "metadata": {
  "kernelspec": {
   "display_name": "Python 3",
   "language": "python",
   "name": "python3"
  },
  "language_info": {
   "codemirror_mode": {
    "name": "ipython",
    "version": 3
   },
   "file_extension": ".py",
   "mimetype": "text/x-python",
   "name": "python",
   "nbconvert_exporter": "python",
   "pygments_lexer": "ipython3",
   "version": "3.7.6"
  }
 },
 "nbformat": 4,
 "nbformat_minor": 4
}